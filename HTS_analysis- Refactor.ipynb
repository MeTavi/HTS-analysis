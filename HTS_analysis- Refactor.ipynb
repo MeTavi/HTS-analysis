{
 "cells": [
  {
   "cell_type": "code",
   "execution_count": 1,
   "metadata": {},
   "outputs": [],
   "source": [
    "import pandas as pd\n",
    "import numpy as np\n",
    "import pyodbc as pyo\n",
    "import os\n",
    "import geopandas as gpd\n",
    "import shapely\n",
    "import fiona\n",
    "from pivottablejs import pivot_ui\n",
    "from IPython.display import display\n",
    "import openpyxl\n",
    "import matplotlib.pyplot as plt\n",
    "\n",
    "# import plotly.express as px\n",
    "from shapely.geometry import Point, LineString, Polygon\n",
    "pd.options.mode.chained_assignment = None  # default='warn'"
   ]
  },
  {
   "cell_type": "markdown",
   "metadata": {},
   "source": [
    "### Reading the input data"
   ]
  },
  {
   "cell_type": "code",
   "execution_count": 2,
   "metadata": {},
   "outputs": [],
   "source": [
    "data_path = os.path.abspath(os.path.join( os.getcwd() , '..', 'Data'))\n",
    "db_file = os.path.join(data_path,'2017-20 pooled SEQ QTS.accdb')\n",
    "spatial_zone_files = os.path.abspath( r\"C:\\\\Users\\\\taghavm\\\\OneDrive - Jacobs\\\\Documents\\\\Projects\\\\SCHTS\\\\WORKING\\\\Data/inputs/spatial/2250trafficzonesandcentriods_zone/2250trafficzonesandcentriods_zone.SHP\")\n"
   ]
  },
  {
   "cell_type": "code",
   "execution_count": 3,
   "metadata": {},
   "outputs": [
    {
     "name": "stdout",
     "output_type": "stream",
     "text": [
      "Wall time: 104 ms\n"
     ]
    }
   ],
   "source": [
    "%%time\n",
    "cnxn = pyo.connect('DRIVER={{Microsoft Access Driver (*.mdb, *.accdb)}};DBQ={};'.format(db_file))\n",
    "cursor = cnxn.cursor();tabs = cursor.tables();tablelist = []\n",
    "for i in tabs:\n",
    "    if i.table_name.startswith(\"MSys\"):\n",
    "        pass\n",
    "    else:\n",
    "#         print(i.table_name)\n",
    "        tablelist.append(i.table_name)\n",
    "del i, tablelist, tabs"
   ]
  },
  {
   "cell_type": "code",
   "execution_count": 4,
   "metadata": {},
   "outputs": [
    {
     "name": "stdout",
     "output_type": "stream",
     "text": [
      "Wall time: 8.46 s\n"
     ]
    }
   ],
   "source": [
    "%%time\n",
    "\"\"\"Import HTS Data.\"\"\"\n",
    "\n",
    "HOUSEHOLDS = pd.read_sql('SELECT * from {}'.format('1_QTS_HOUSEHOLDS'), con = cnxn).fillna(0)\n",
    "PERSONS = pd.read_sql('SELECT * from {}'.format('2_QTS_PERSONS'), con = cnxn).fillna(0)\n",
    "#VEHICLES = pd.read_sql('SELECT * from {}'.format('3_QTS_VEHICLES'), con = cnxn).fillna(0)\n",
    "STOPS = pd.read_sql('SELECT * from {}'.format('4_QTS_STOPS'), con = cnxn).fillna(0)\n",
    "TRIPS = pd.read_sql('SELECT * from {}'.format('5_QTS_TRIPS'), con = cnxn).fillna(0)\n",
    "ANZSCO = pd.read_sql('SELECT * from {}'.format('R_ANZSCO'), con = cnxn).fillna(0)\n",
    "ASGS = pd.read_sql('SELECT * from {}'.format('R_ASGS_2016'), con = cnxn).fillna(0)\n",
    "#DIST_bin = pd.read_sql('SELECT * from {}'.format('R_Distance_bins'), con = cnxn).fillna(0)\n",
    "#MAINACT = pd.read_sql('SELECT * from {}'.format('R_GROUP_MAINACT'), con = cnxn).fillna(0)\n",
    "#GRP_MODE = pd.read_sql('SELECT * from {}'.format('R_GROUP_MODE'), con = cnxn).fillna(0)\n",
    "#LGA = pd.read_sql('SELECT * from {}'.format('R_LGA'), con = cnxn).fillna(0)\n",
    "#MAINMODE = pd.read_sql('SELECT * from {}'.format('R_MAINMODE'), con = cnxn).fillna(0)\n",
    "#PURPOSE = pd.read_sql('SELECT * from {}'.format('R_OVERALL_PURPOSE'), con = cnxn).fillna(0)\n",
    "#REGION = pd.read_sql('SELECT * from {}'.format('R_REGION'), con = cnxn).fillna(0)\n",
    "\n",
    "TIME = pd.read_excel('R_TIME.xlsx', engine = 'openpyxl').fillna(0)"
   ]
  },
  {
   "cell_type": "code",
   "execution_count": 5,
   "metadata": {},
   "outputs": [],
   "source": [
    "# \"\"\"Adjust PERSID.\"\"\"\n",
    "# PERSONS['PERSID'] = PERSONS['PERSID'].str.replace('/','')\n",
    "# TRIPS['PERSID'] = TRIPS['PERSID'].str.replace('/','')\n",
    "# STOPS['PERSID'] = STOPS['PERSID'].str.replace('/','')"
   ]
  },
  {
   "cell_type": "code",
   "execution_count": 6,
   "metadata": {},
   "outputs": [],
   "source": [
    "# PERSONS.drop(columns = ['STARTPLACE', 'ANYSTOPS', 'REASON', 'LASTLEFT','RELATIONSHIP', #'CARLICENCE', 'CARLICTYPE','MCLICENCE', 'MCLICTYPE', 'OTHERLICENCE',\n",
    "#                         'YEAROFBIRTH','ASSISTAGE', 'ASSISTLTHC', 'ASSISTSTHC',\n",
    "#                         'ASSISTDISABILITY','ASSISTENGLISH', 'ASSISTOTHER', 'ASSISTANY','RIDESHARETRIPS', 'RIDESHAREENT', \n",
    "#                         'RIDESHAREHC', 'RIDESHAREED', 'RIDESHARESHOP', 'RIDESHAREWORK', 'RIDESHAREOTHER', 'TAXITRIPSS',\n",
    "#                         'TAXIENT', 'TAXIHC', 'TAXIED', 'TAXISHOP', 'TAXIWORK', 'TAXIOTHER'], \n",
    "#              inplace = True)\n",
    "\n",
    "# HOUSEHOLDS.drop(columns= ['BIKES', 'HHVEH', 'DWELLTYPE', 'SURVEYWEEK',\n",
    "#        'STRATA_LGA', 'TRAVDATE', 'TRAVMONTH', 'TRAVYEAR', 'TRAVDOW'], inplace = True)"
   ]
  },
  {
   "cell_type": "code",
   "execution_count": 7,
   "metadata": {},
   "outputs": [],
   "source": [
    "\"\"\"Load New Weightings\"\"\"\n",
    "HH = pd.read_excel('Reweight.xlsx', engine='openpyxl', sheet_name='HH_export')\n",
    "Pers = pd.read_excel('Reweight.xlsx', engine='openpyxl', sheet_name='Pers_export')\n",
    "wgt_sect = pd.read_excel('Reweight.xlsx', engine='openpyxl', sheet_name='WGT_Sect')"
   ]
  },
  {
   "cell_type": "code",
   "execution_count": 8,
   "metadata": {},
   "outputs": [],
   "source": [
    "\"\"\"Load Spatial Zones\"\"\"\n",
    "zones = gpd.read_file(spatial_zone_files)\n",
    "zones = zones.to_crs(epsg=4283) # to be able to do spatial matching with the x,y coordinates \n"
   ]
  },
  {
   "cell_type": "markdown",
   "metadata": {},
   "source": [
    "# Data Table Cleaning"
   ]
  },
  {
   "cell_type": "markdown",
   "metadata": {},
   "source": [
    "## Households Table \n",
    "\n",
    "- Joining the household table with the zone system.\n",
    "\n",
    "- And Updating the weighting factors in the HTS table to reflect the correct weights"
   ]
  },
  {
   "cell_type": "code",
   "execution_count": 9,
   "metadata": {},
   "outputs": [],
   "source": [
    "Household = HOUSEHOLDS.copy()\n",
    "Household = Household.astype({'HHID':'int64'})\n",
    "Household = pd.merge(Household, ASGS, left_on = 'HOME_SA1_2016', right_on = 'SA1_7DIGITCODE_2016')\n",
    "\n",
    "\"\"\"Spatial Join to Model Sectors\"\"\"\n",
    "Household_map = gpd.GeoDataFrame(Household, geometry=gpd.points_from_xy(Household['HOMELONG'], Household['HOMELAT']), crs='EPSG:4283')\n",
    "Household_map = gpd.sjoin(Household_map, zones[['geometry','NO', 'CODE', 'NAME', 'TYPENO', 'SCHOOLNAME','SCHOOLTYPE']],\n",
    " how = 'left', op = 'within').drop(columns ='index_right')"
   ]
  },
  {
   "cell_type": "code",
   "execution_count": 10,
   "metadata": {},
   "outputs": [
    {
     "data": {
      "text/plain": [
       "Index(['HHID', 'HHSIZE', 'BIKES', 'HHVEH', 'DWELLTYPE', 'SURVEYWEEK',\n",
       "       'STRATA_LGA', 'TRAVDATE', 'TRAVMONTH', 'TRAVYEAR', 'TRAVDOW',\n",
       "       'HOMELONG', 'HOMELAT', 'HOME_SA1_2016', 'HHWGT_19',\n",
       "       'SA1_7DIGITCODE_2016', 'SA2_5DIGITCODE_2016', 'SA2_NAME_2016',\n",
       "       'SA3_CODE_2016', 'SA3_NAME_2016', 'SA4_CODE_2016', 'SA4_NAME_2016',\n",
       "       'LGA_NAME_2016', 'geometry', 'NO', 'CODE', 'NAME', 'TYPENO',\n",
       "       'SCHOOLNAME', 'SCHOOLTYPE'],\n",
       "      dtype='object')"
      ]
     },
     "execution_count": 10,
     "metadata": {},
     "output_type": "execute_result"
    }
   ],
   "source": [
    "Household_map.columns"
   ]
  },
  {
   "cell_type": "code",
   "execution_count": 11,
   "metadata": {},
   "outputs": [],
   "source": [
    "Household = pd.DataFrame(Household_map).drop(columns = 'geometry')\n",
    "Household.rename(columns = {'NO':'Home_Zone_number',  'SA2_NAME_2016':'HH_SA2', 'SA3_NAME_2016': 'HH_SA3', 'SA4_NAME_2016': \"HH_SA4\", 'LGA_NAME_2016': \"HH_LGA\"}, inplace = True)\n",
    "\n",
    "Household.drop(columns=[ 'SA2_5DIGITCODE_2016', 'SA3_CODE_2016', 'SA4_CODE_2016'], inplace=True)"
   ]
  },
  {
   "cell_type": "code",
   "execution_count": 12,
   "metadata": {},
   "outputs": [
    {
     "name": "stdout",
     "output_type": "stream",
     "text": [
      "Number of Household Records in Original: 14715\n",
      "Number of Household Records: 14715\n"
     ]
    }
   ],
   "source": [
    "print('Number of Household Records in Original: {}'.format(len(HOUSEHOLDS.axes[0])))\n",
    "print('Number of Household Records: {}'.format(len(Household.axes[0])))"
   ]
  },
  {
   "cell_type": "code",
   "execution_count": 13,
   "metadata": {},
   "outputs": [
    {
     "name": "stdout",
     "output_type": "stream",
     "text": [
      "LGA Weighting Population: 1167298.0\n",
      "Sector Weighting Population: 1166010.0\n"
     ]
    },
    {
     "data": {
      "text/html": [
       "<div>\n",
       "<style scoped>\n",
       "    .dataframe tbody tr th:only-of-type {\n",
       "        vertical-align: middle;\n",
       "    }\n",
       "\n",
       "    .dataframe tbody tr th {\n",
       "        vertical-align: top;\n",
       "    }\n",
       "\n",
       "    .dataframe thead tr th {\n",
       "        text-align: left;\n",
       "    }\n",
       "\n",
       "    .dataframe thead tr:last-of-type th {\n",
       "        text-align: right;\n",
       "    }\n",
       "</style>\n",
       "<table border=\"1\" class=\"dataframe\">\n",
       "  <thead>\n",
       "    <tr>\n",
       "      <th></th>\n",
       "      <th colspan=\"2\" halign=\"left\">old_HHWGT_19</th>\n",
       "      <th colspan=\"2\" halign=\"left\">HHWGT_19</th>\n",
       "    </tr>\n",
       "    <tr>\n",
       "      <th></th>\n",
       "      <th>count</th>\n",
       "      <th>sum</th>\n",
       "      <th>count</th>\n",
       "      <th>sum</th>\n",
       "    </tr>\n",
       "    <tr>\n",
       "      <th>HH_LGA</th>\n",
       "      <th></th>\n",
       "      <th></th>\n",
       "      <th></th>\n",
       "      <th></th>\n",
       "    </tr>\n",
       "  </thead>\n",
       "  <tbody>\n",
       "    <tr>\n",
       "      <th>Brisbane (C)</th>\n",
       "      <td>2963</td>\n",
       "      <td>427770.0</td>\n",
       "      <td>2963</td>\n",
       "      <td>427403.0</td>\n",
       "    </tr>\n",
       "    <tr>\n",
       "      <th>Gold Coast (C)</th>\n",
       "      <td>2038</td>\n",
       "      <td>214279.0</td>\n",
       "      <td>2038</td>\n",
       "      <td>218276.0</td>\n",
       "    </tr>\n",
       "    <tr>\n",
       "      <th>Ipswich (C)</th>\n",
       "      <td>1747</td>\n",
       "      <td>70732.0</td>\n",
       "      <td>1747</td>\n",
       "      <td>69231.0</td>\n",
       "    </tr>\n",
       "    <tr>\n",
       "      <th>Logan (C)</th>\n",
       "      <td>1702</td>\n",
       "      <td>103359.0</td>\n",
       "      <td>1702</td>\n",
       "      <td>102988.0</td>\n",
       "    </tr>\n",
       "    <tr>\n",
       "      <th>Moreton Bay (R)</th>\n",
       "      <td>1896</td>\n",
       "      <td>157796.0</td>\n",
       "      <td>1896</td>\n",
       "      <td>157320.0</td>\n",
       "    </tr>\n",
       "    <tr>\n",
       "      <th>Noosa (S)</th>\n",
       "      <td>956</td>\n",
       "      <td>20877.0</td>\n",
       "      <td>956</td>\n",
       "      <td>23174.0</td>\n",
       "    </tr>\n",
       "    <tr>\n",
       "      <th>Redland (C)</th>\n",
       "      <td>1655</td>\n",
       "      <td>54725.0</td>\n",
       "      <td>1655</td>\n",
       "      <td>54598.0</td>\n",
       "    </tr>\n",
       "    <tr>\n",
       "      <th>Sunshine Coast (R)</th>\n",
       "      <td>1758</td>\n",
       "      <td>117760.0</td>\n",
       "      <td>1758</td>\n",
       "      <td>113020.0</td>\n",
       "    </tr>\n",
       "  </tbody>\n",
       "</table>\n",
       "</div>"
      ],
      "text/plain": [
       "                   old_HHWGT_19           HHWGT_19          \n",
       "                          count       sum    count       sum\n",
       "HH_LGA                                                      \n",
       "Brisbane (C)               2963  427770.0     2963  427403.0\n",
       "Gold Coast (C)             2038  214279.0     2038  218276.0\n",
       "Ipswich (C)                1747   70732.0     1747   69231.0\n",
       "Logan (C)                  1702  103359.0     1702  102988.0\n",
       "Moreton Bay (R)            1896  157796.0     1896  157320.0\n",
       "Noosa (S)                   956   20877.0      956   23174.0\n",
       "Redland (C)                1655   54725.0     1655   54598.0\n",
       "Sunshine Coast (R)         1758  117760.0     1758  113020.0"
      ]
     },
     "execution_count": 13,
     "metadata": {},
     "output_type": "execute_result"
    }
   ],
   "source": [
    "\"\"\"Update Household Weights\"\"\"\n",
    "Household['old_HHWGT_19'] = Household['HHWGT_19']\n",
    "Household = Household.set_index(\"HHID\")\n",
    "Household.update(HH.set_index('HHID'))\n",
    "Household.reset_index(inplace=True)\n",
    "\n",
    "print(\"LGA Weighting Population: {}\".format(Household.old_HHWGT_19.sum().round(0)))\n",
    "print(\"Sector Weighting Population: {}\".format(Household.HHWGT_19.sum().round(0)))\n",
    "\n",
    "del Household_map\n",
    "Household[['HH_LGA','old_HHWGT_19','HHWGT_19']].groupby(by='HH_LGA').agg(['count', 'sum']).round(0)"
   ]
  },
  {
   "cell_type": "markdown",
   "metadata": {},
   "source": [
    "## Person Table\n",
    "\n",
    "- Adding ANZCO table to indentify the Blue and White Collar workers\n",
    "- Addining the new person weight \n",
    "- Persons Table updated by Childcare and Kindergarden-age children \n",
    "- Update Work and Study status"
   ]
  },
  {
   "cell_type": "code",
   "execution_count": 14,
   "metadata": {},
   "outputs": [
    {
     "name": "stdout",
     "output_type": "stream",
     "text": [
      "Using existing Blue/White Collar split table\n"
     ]
    }
   ],
   "source": [
    "\"\"\" Blue/White Collar Adjustment.\"\"\"\n",
    "adjustpath = os.path.join(data_path, \"inputs\")\n",
    "try:\n",
    "    ANZSCO_filter = pd.read_csv(os.path.join(adjustpath, 'ANZSCO_adjustment.csv'))\n",
    "    print('Using existing Blue/White Collar split table')\n",
    "    #os.startfile(os.path.join(adjustpath, 'ANZSCO_adjustment.csv'))\n",
    "except IOError:\n",
    "    print('Rerun after completing Blue/White Collar split table')\n",
    "    ANZSCO.reindex(ANZSCO.columns.tolist() + ['Collar', 'Collar2'], axis=1).drop(columns=['ANZSCO_2','Description_2',\n",
    "    'ANZSCO_4','Description_4','ANZSCO_6', 'Description_6']).drop_duplicates().to_csv(os.path.join(adjustpath,'ANZSCO_adjustment.csv'), index= False)\n",
    "    os.startfile(os.path.join(adjustpath, 'ANZSCO_adjustment.csv'))\n"
   ]
  },
  {
   "cell_type": "code",
   "execution_count": 15,
   "metadata": {},
   "outputs": [
    {
     "name": "stdout",
     "output_type": "stream",
     "text": [
      "C:\\Users\\taghavm\\OneDrive - Jacobs\\Documents\\Projects\\SCHTS\\WORKING\\Data\\inputs\\ANZSCO_adjustment.csv\n"
     ]
    }
   ],
   "source": [
    "print(os.path.join(adjustpath, 'ANZSCO_adjustment.csv'))"
   ]
  },
  {
   "cell_type": "code",
   "execution_count": 16,
   "metadata": {},
   "outputs": [
    {
     "data": {
      "text/html": [
       "<div>\n",
       "<style scoped>\n",
       "    .dataframe tbody tr th:only-of-type {\n",
       "        vertical-align: middle;\n",
       "    }\n",
       "\n",
       "    .dataframe tbody tr th {\n",
       "        vertical-align: top;\n",
       "    }\n",
       "\n",
       "    .dataframe thead th {\n",
       "        text-align: right;\n",
       "    }\n",
       "</style>\n",
       "<table border=\"1\" class=\"dataframe\">\n",
       "  <thead>\n",
       "    <tr style=\"text-align: right;\">\n",
       "      <th></th>\n",
       "      <th>ANZSCO_1</th>\n",
       "      <th>Description_1</th>\n",
       "      <th>ANZSCO_3</th>\n",
       "      <th>Description_3</th>\n",
       "      <th>Collar</th>\n",
       "      <th>Collar2</th>\n",
       "    </tr>\n",
       "  </thead>\n",
       "  <tbody>\n",
       "    <tr>\n",
       "      <th>0</th>\n",
       "      <td>1</td>\n",
       "      <td>MANAGERS</td>\n",
       "      <td>100</td>\n",
       "      <td>Managers nfd</td>\n",
       "      <td>White</td>\n",
       "      <td>Professional</td>\n",
       "    </tr>\n",
       "    <tr>\n",
       "      <th>1</th>\n",
       "      <td>1</td>\n",
       "      <td>MANAGERS</td>\n",
       "      <td>141</td>\n",
       "      <td>Accommodation and Hospitality Managers</td>\n",
       "      <td>White</td>\n",
       "      <td>White</td>\n",
       "    </tr>\n",
       "    <tr>\n",
       "      <th>2</th>\n",
       "      <td>1</td>\n",
       "      <td>MANAGERS</td>\n",
       "      <td>149</td>\n",
       "      <td>Miscellaneous Hospitality, Retail and Service ...</td>\n",
       "      <td>White</td>\n",
       "      <td>White</td>\n",
       "    </tr>\n",
       "    <tr>\n",
       "      <th>3</th>\n",
       "      <td>1</td>\n",
       "      <td>MANAGERS</td>\n",
       "      <td>132</td>\n",
       "      <td>Business Administration Managers</td>\n",
       "      <td>White</td>\n",
       "      <td>Professional</td>\n",
       "    </tr>\n",
       "    <tr>\n",
       "      <th>4</th>\n",
       "      <td>1</td>\n",
       "      <td>MANAGERS</td>\n",
       "      <td>131</td>\n",
       "      <td>Advertising, Public Relations and Sales Managers</td>\n",
       "      <td>White</td>\n",
       "      <td>Professional</td>\n",
       "    </tr>\n",
       "    <tr>\n",
       "      <th>...</th>\n",
       "      <td>...</td>\n",
       "      <td>...</td>\n",
       "      <td>...</td>\n",
       "      <td>...</td>\n",
       "      <td>...</td>\n",
       "      <td>...</td>\n",
       "    </tr>\n",
       "    <tr>\n",
       "      <th>134</th>\n",
       "      <td>8</td>\n",
       "      <td>LABOURERS</td>\n",
       "      <td>891</td>\n",
       "      <td>Freight Handlers and Shelf Fillers</td>\n",
       "      <td>Blue</td>\n",
       "      <td>Blue</td>\n",
       "    </tr>\n",
       "    <tr>\n",
       "      <th>135</th>\n",
       "      <td>8</td>\n",
       "      <td>LABOURERS</td>\n",
       "      <td>890</td>\n",
       "      <td>Other Labourers nfd</td>\n",
       "      <td>Blue</td>\n",
       "      <td>Blue</td>\n",
       "    </tr>\n",
       "    <tr>\n",
       "      <th>136</th>\n",
       "      <td>9</td>\n",
       "      <td>MISCELLANEOUS</td>\n",
       "      <td>999</td>\n",
       "      <td>Response Unidentifiable</td>\n",
       "      <td>White</td>\n",
       "      <td>White</td>\n",
       "    </tr>\n",
       "    <tr>\n",
       "      <th>137</th>\n",
       "      <td>9</td>\n",
       "      <td>MISCELLANEOUS</td>\n",
       "      <td>997</td>\n",
       "      <td>Response Unidentifiable</td>\n",
       "      <td>White</td>\n",
       "      <td>White</td>\n",
       "    </tr>\n",
       "    <tr>\n",
       "      <th>138</th>\n",
       "      <td>9</td>\n",
       "      <td>MISCELLANEOUS</td>\n",
       "      <td>999</td>\n",
       "      <td>Not stated</td>\n",
       "      <td>White</td>\n",
       "      <td>White</td>\n",
       "    </tr>\n",
       "  </tbody>\n",
       "</table>\n",
       "<p>139 rows × 6 columns</p>\n",
       "</div>"
      ],
      "text/plain": [
       "     ANZSCO_1  Description_1  ANZSCO_3  \\\n",
       "0           1       MANAGERS       100   \n",
       "1           1       MANAGERS       141   \n",
       "2           1       MANAGERS       149   \n",
       "3           1       MANAGERS       132   \n",
       "4           1       MANAGERS       131   \n",
       "..        ...            ...       ...   \n",
       "134         8      LABOURERS       891   \n",
       "135         8      LABOURERS       890   \n",
       "136         9  MISCELLANEOUS       999   \n",
       "137         9  MISCELLANEOUS       997   \n",
       "138         9  MISCELLANEOUS       999   \n",
       "\n",
       "                                         Description_3 Collar       Collar2  \n",
       "0                                         Managers nfd  White  Professional  \n",
       "1               Accommodation and Hospitality Managers  White         White  \n",
       "2    Miscellaneous Hospitality, Retail and Service ...  White         White  \n",
       "3                     Business Administration Managers  White  Professional  \n",
       "4     Advertising, Public Relations and Sales Managers  White  Professional  \n",
       "..                                                 ...    ...           ...  \n",
       "134                 Freight Handlers and Shelf Fillers   Blue          Blue  \n",
       "135                                Other Labourers nfd   Blue          Blue  \n",
       "136                            Response Unidentifiable  White         White  \n",
       "137                            Response Unidentifiable  White         White  \n",
       "138                                         Not stated  White         White  \n",
       "\n",
       "[139 rows x 6 columns]"
      ]
     },
     "execution_count": 16,
     "metadata": {},
     "output_type": "execute_result"
    }
   ],
   "source": [
    "ANZSCO_filter.loc[~pd.isna(ANZSCO_filter.Collar)]"
   ]
  },
  {
   "cell_type": "code",
   "execution_count": 17,
   "metadata": {},
   "outputs": [],
   "source": [
    "Person = PERSONS.copy()\n",
    "Person = Person.astype({'HHID':'int64', \"PERSID\": 'str', 'ANZSCO_1-digit': int, 'ANZSCO_3-digit': 'int64'}).sort_values('HHID')"
   ]
  },
  {
   "cell_type": "code",
   "execution_count": 18,
   "metadata": {},
   "outputs": [
    {
     "data": {
      "text/plain": [
       "Index(['HHID', 'HHSIZE', 'BIKES', 'HHVEH', 'DWELLTYPE', 'SURVEYWEEK',\n",
       "       'STRATA_LGA', 'TRAVDATE', 'TRAVMONTH', 'TRAVYEAR', 'TRAVDOW',\n",
       "       'HOMELONG', 'HOMELAT', 'HOME_SA1_2016', 'HHWGT_19',\n",
       "       'SA1_7DIGITCODE_2016', 'HH_SA2', 'HH_SA3', 'HH_SA4', 'HH_LGA',\n",
       "       'Home_Zone_number', 'CODE', 'NAME', 'TYPENO', 'SCHOOLNAME',\n",
       "       'SCHOOLTYPE', 'old_HHWGT_19'],\n",
       "      dtype='object')"
      ]
     },
     "execution_count": 18,
     "metadata": {},
     "output_type": "execute_result"
    }
   ],
   "source": [
    "Household.columns"
   ]
  },
  {
   "cell_type": "code",
   "execution_count": 19,
   "metadata": {},
   "outputs": [],
   "source": [
    "Person = pd.merge(Person, Household[['HHID', \n",
    "                                     'HH_SA2', \n",
    "                                     'HH_SA3', \n",
    "                                     'HH_SA4', \n",
    "                                     'HH_LGA',\n",
    "                                     ]], left_on = 'HHID', right_on = 'HHID', how = 'left')\n",
    "\n",
    "\"\"\"Fix Random Errors Here.\"\"\"\n",
    "Person.loc[Person.PERSID == 613521001,'ANZSCO_1-digit'] = 2\n",
    "Person.loc[Person.PERSID == 613521001,'ANZSCO_3-digit'] = 200"
   ]
  },
  {
   "cell_type": "code",
   "execution_count": 20,
   "metadata": {},
   "outputs": [
    {
     "name": "stdout",
     "output_type": "stream",
     "text": [
      "Wall time: 406 ms\n"
     ]
    }
   ],
   "source": [
    "Person.replace(['primary','secondary'],['Primary','Secondary'], inplace=True)\n",
    "\"\"\"Fix Random Errors Here.\"\"\"\n",
    "\n",
    "\"\"\"Add Collar Tag.\"\"\"\n",
    "%time Person = pd.merge(Person, ANZSCO_filter[['ANZSCO_3','Collar', 'Collar2']], left_on = 'ANZSCO_3-digit', right_on = 'ANZSCO_3', how = 'left').drop(columns= 'ANZSCO_3').sort_values('HHID').drop_duplicates().dropna(axis = 0, thresh = 5)\n",
    "\n",
    "Person = Person.reset_index().drop(columns = 'index')"
   ]
  },
  {
   "cell_type": "code",
   "execution_count": 21,
   "metadata": {},
   "outputs": [
    {
     "name": "stdout",
     "output_type": "stream",
     "text": [
      "Number of Person Records in Original: 36264\n",
      "Number of Person Records: 36264\n"
     ]
    }
   ],
   "source": [
    "\"\"\"Update New Person Weights.\"\"\"\n",
    "Person['old_PERSWGT19'] = Person['PERSWGT19']\n",
    "Person = Person.set_index(\"PERSID\")\n",
    "Person.update(Pers.set_index('PERSID'))\n",
    "Person.reset_index(inplace=True)\n",
    "\n",
    "print('Number of Person Records in Original: {}'.format(len(PERSONS.axes[0])))\n",
    "print('Number of Person Records: {}'.format(len(Person.axes[0])))"
   ]
  },
  {
   "cell_type": "markdown",
   "metadata": {},
   "source": [
    "___TODO :  Check if all the workers have a blue/white collar code.___"
   ]
  },
  {
   "cell_type": "markdown",
   "metadata": {},
   "source": [
    "Persons Table Allocate Childcare and Kindergarden-age children"
   ]
  },
  {
   "cell_type": "code",
   "execution_count": 22,
   "metadata": {},
   "outputs": [
    {
     "name": "stdout",
     "output_type": "stream",
     "text": [
      "Number of Added Kindy Kids:368\n"
     ]
    }
   ],
   "source": [
    "\"\"\"Calculate Kindergarten/Childcare kids.\"\"\"\n",
    "trip_rev = TRIPS.copy()\n",
    "kindy_pers = Person.copy()\n",
    "\n",
    "\"\"\"Age Bands.\"\"\"\n",
    "under5 = kindy_pers.AGE < 5\n",
    "\n",
    "\"\"\"Processing.\"\"\"\n",
    "duration = trip_rev.DURATION > 90\n",
    "DEST_CC_kindy = trip_rev.DESTPLACE == 'Childcare or kindergarten'\n",
    "\n",
    "CC_person = trip_rev[['PERSID',\"HHID\", \"DESTPLACE\", \"DURATION\"]].loc[duration & DEST_CC_kindy,['PERSID']].drop_duplicates().astype({'PERSID': 'str'})\n",
    "CC_person['CC/Kindy'] = 1\n",
    "\n",
    "kindy_pers = pd.merge(kindy_pers, CC_person, on='PERSID', how='left')\n",
    "CC_person = kindy_pers[\"CC/Kindy\"] == 1\n",
    "not_CC_kid = kindy_pers.STUDYING != 'CC/Kindy'\n",
    "\n",
    "kindy_pers.loc[CC_person & under5 & not_CC_kid,'STUDYING'] = 'CC/Kindy'\n",
    "kindy_pers.loc[CC_person & under5 & not_CC_kid,'Student_Prim'] = 0\n",
    "kindy_pers.loc[CC_person & under5 & not_CC_kid,'Student_CC'] = 1\n",
    "print(\"Number of Added Kindy Kids:{}\".format(len(kindy_pers.loc[CC_person & under5 & not_CC_kid])))\n",
    "kindy_pers.drop(columns=['CC/Kindy'], inplace = True)\n",
    "\n",
    "#Assign Kindy\n",
    "kindy = kindy_pers.STUDYING == 'CC/Kindy'\n",
    "kindy_pers.loc[kindy, 'Student_CC'] = 1\n",
    "\n",
    "Person = kindy_pers\n",
    "del trip_rev, kindy_pers, kindy, not_CC_kid, under5, duration, DEST_CC_kindy, CC_person\n"
   ]
  },
  {
   "cell_type": "code",
   "execution_count": 23,
   "metadata": {},
   "outputs": [
    {
     "data": {
      "text/plain": [
       "Gold Coast             64\n",
       "Sunshine Coast         54\n",
       "Ipswich                47\n",
       "Logan - Beaudesert     44\n",
       "Brisbane - East        33\n",
       "Brisbane - West        26\n",
       "Brisbane - South       25\n",
       "Brisbane Inner City    23\n",
       "Moreton Bay - South    22\n",
       "Brisbane - North       17\n",
       "Moreton Bay - North    13\n",
       "Name: HH_SA4, dtype: int64"
      ]
     },
     "execution_count": 23,
     "metadata": {},
     "output_type": "execute_result"
    }
   ],
   "source": [
    "test = Person.loc[Person.Student_CC==1]\n",
    "test.HH_SA4.value_counts()"
   ]
  },
  {
   "cell_type": "code",
   "execution_count": 24,
   "metadata": {},
   "outputs": [
    {
     "name": "stdout",
     "output_type": "stream",
     "text": [
      "Number of Added Kindy Kids:52\n",
      "Number of Added Primary Kids:24\n"
     ]
    }
   ],
   "source": [
    "\"\"\"Calculate Primary kids.\"\"\"\n",
    "trip_rev = TRIPS.copy()\n",
    "school_pers = Person.copy()\n",
    "school_pers['STUDYING'].replace({'other': 0}, inplace = True)\n",
    "\n",
    "\"\"\"Age Bands.\"\"\"\n",
    "under6 = school_pers.AGE < 5\n",
    "over5 = school_pers.AGE >= 5\n",
    "under13 = school_pers.AGE < 13\n",
    "\"\"\"Processing.\"\"\"\n",
    "duration = trip_rev.DURATION > 90\n",
    "zero_study = school_pers.STUDYING == 0\n",
    "DEST_prim= trip_rev.DESTPLACE == 'Primary or secondary school'\n",
    "\n",
    "prim_person = trip_rev.loc[DEST_prim & duration,['PERSID']].drop_duplicates().astype({'PERSID': 'str'})\n",
    "prim_person['Prim_person'] = 1\n",
    "school_pers = pd.merge(school_pers, prim_person, on='PERSID', how='left')\n",
    "missing = school_pers.STUDYING == 0\n",
    "\n",
    "prim_missing = school_pers.Prim_person == 1\n",
    "\n",
    "school_pers.loc[missing & prim_missing & over5 & under13, 'STUDYING'] = 'Primary'\n",
    "school_pers.loc[missing & prim_missing & under6, 'STUDYING'] = 'CC/Kindy'\n",
    "print(\"Number of Added Kindy Kids:{}\".format(len(school_pers.loc[missing & prim_missing & under6])))\n",
    "print(\"Number of Added Primary Kids:{}\".format(len(school_pers.loc[missing & prim_missing & over5 & under13])))\n",
    "\n",
    "school_pers.drop(columns = 'Prim_person', inplace = True)\n",
    "\n",
    "Person = school_pers\n",
    "\n",
    "del school_pers, prim_person, prim_missing, DEST_prim, under6, over5, under13, trip_rev, missing"
   ]
  },
  {
   "cell_type": "code",
   "execution_count": 27,
   "metadata": {},
   "outputs": [
    {
     "data": {
      "text/plain": [
       "Index(['TRIPID', 'HHID', 'PERSID', 'STARTSTOP', 'ENDSTOP', 'STARTIME',\n",
       "       'ORIGPLACE', 'ORIGPURP', 'ORIGLONG', 'ORIGLAT', 'ORIGSA1_2016',\n",
       "       'DESTPLACE', 'DESTPURP', 'DESTLONG', 'DESTLAT', 'DESTSA1_2016',\n",
       "       'MAINMODE', 'MODE1', 'MODE2', 'MODE3', 'MODE4', 'MODE5', 'MODE6',\n",
       "       'MODE7', 'MODE8', 'ARRTIME', 'DURATION', 'TRAVTIME', 'CUMDIST',\n",
       "       'OVERALL_PURPOSE', 'TRIPWGT19'],\n",
       "      dtype='object')"
      ]
     },
     "execution_count": 27,
     "metadata": {},
     "output_type": "execute_result"
    }
   ],
   "source": [
    "TRIPS.columns"
   ]
  },
  {
   "cell_type": "code",
   "execution_count": null,
   "metadata": {},
   "outputs": [],
   "source": [
    "pers_filt = Person.copy()\n",
    "\n",
    "\"\"\"Age Bands.\"\"\"\n",
    "over5 = pers_filt.AGE > 4\n",
    "under5 = pers_filt.AGE < 5\n",
    "under18 = pers_filt.AGE < 18\n",
    "over15 = pers_filt.AGE > 14\n",
    "sub75 = pers_filt.AGE < 75\n",
    "over75 = pers_filt.AGE > 74\n",
    "under15 = pers_filt.AGE < 15\n",
    "over20 = pers_filt.AGE > 20\n",
    "o13 = pers_filt.AGE > 12\n",
    "u13 = pers_filt.AGE < 13\n",
    "\n",
    "\"\"\"Clean Studying Var.\"\"\"\n",
    "PrimSchl = pers_filt.STUDYING == 'Primary'\n",
    "SecSchl = pers_filt.STUDYING == 'Secondary'\n",
    "UniFT = pers_filt.STUDYING == 'tertiaryFullTime'\n",
    "UniPT = pers_filt.STUDYING == 'tertiaryPartTime'\n",
    "CC_kindy = pers_filt.MAINACT == 'Childcare/Kindergarten'\n",
    "\n",
    "# print('CC/Kindy')\n",
    "# print(pers_filt.loc[CC_kindy,['STUDYING','AGE']].value_counts())\n",
    "pers_filt.loc[CC_kindy,'STUDYING'] = \"CC/Kindy\"\n",
    "# print(\"Primary to Kindy\")\n",
    "# print(pers_filt.loc[PrimSchl & under5, ['STUDYING','AGE']].value_counts())\n",
    "pers_filt.loc[(PrimSchl | SecSchl | UniFT | UniPT) & under5,'STUDYING'] = \"CC/Kindy\"\n",
    "# print(\"Primary to Secondary\")\n",
    "# print(pers_filt.loc[PrimSchl & o13, ['STUDYING','AGE']].value_counts())\n",
    "pers_filt.loc[PrimSchl & o13,'STUDYING'] = 'Secondary'\n",
    "# print(\"Adult Secondary\")\n",
    "# print(pers_filt.loc[SecSchl & over20, ['STUDYING','AGE']].value_counts())\n",
    "pers_filt.loc[SecSchl & over20,'STUDYING'] = 0\n",
    "# print(\"Secondary to Primary\")\n",
    "# print(pers_filt.loc[SecSchl & u13, ['STUDYING','AGE']].value_counts())\n",
    "pers_filt.loc[(SecSchl| UniFT | UniPT) & u13,'STUDYING'] = 'Primary'\n",
    "# print('Uni errors')\n",
    "# print(pers_filt.loc[UniFT & u13, ['STUDYING','AGE']].value_counts())\n",
    "pers_filt.loc[UniFT & u13,'STUDYING'] = 0\n",
    "# print(pers_filt.loc[UniPT & u13, ['STUDYING','AGE']].value_counts())\n",
    "pers_filt.loc[UniPT & u13,'STUDYING'] = 0\n",
    "\n",
    "#fig = px.histogram(pers_filt[['STUDYING',\"MAINACT\",'AGE']], x=\"AGE\", color=\"STUDYING\", marginal = \"rug\", hover_data=['MAINACT']);fig.show()\n",
    "\"\"\"Assign Study Vars.\"\"\"\n",
    "PrimSchl = pers_filt.STUDYING == 'Primary'\n",
    "SecSchl = pers_filt.STUDYING == 'Secondary'\n",
    "TertPT = pers_filt.STUDYING == 'tertiaryFullTime'\n",
    "TertFT = pers_filt.STUDYING == 'tertiaryPartTime'\n",
    "\n",
    "pers_filt.loc[PrimSchl, 'Student_Prim'] = 1\n",
    "pers_filt.loc[SecSchl, 'Student_Sec'] = 1\n",
    "pers_filt.loc[TertPT | TertFT, 'Student_Tert'] = 1\n",
    "pers_filt.loc[PrimSchl | SecSchl | TertPT | TertFT, 'Student'] = 1\n",
    "\n",
    "\"\"\"Clean Worker Variable.\"\"\"\n",
    "retired = pers_filt.WORKSTATUS == 'retired'\n",
    "PrimSchl = pers_filt.STUDYING == 'Primary'\n",
    "Not_PrimSchl = pers_filt.STUDYING != 'Primary'\n",
    "\n",
    "#display(pers_filt.loc[PrimSchl| retired | under15, ['Collar','AGE']].plot.hist(bins=20))\n",
    "# pers_filt.loc[PrimSchl| retired | under15,'Collar'] = np.NaN\n",
    "pers_filt.loc[retired,'Collar'] = np.NaN\n",
    "\n",
    "white = pers_filt.Collar == 'White'\n",
    "blue = pers_filt.Collar == 'Blue'\n",
    "\n",
    "\"\"\"Assign Worker vs Dependents.\"\"\"\n",
    "workFT = pers_filt.WORKSTATUS == 'workFullTime'\n",
    "workPT = pers_filt.WORKSTATUS == 'workPartTime'\n",
    "non_workFT = pers_filt.WORKSTATUS != 'workFullTime'\n",
    "non_workPT = pers_filt.WORKSTATUS != 'workPartTime'\n",
    "\n",
    "pers_filt.loc[(non_workFT & non_workPT) | PrimSchl | under15, 'Dependent'] = 1\n",
    "pers_filt.loc[(workFT | workPT) & Not_PrimSchl & over15, 'Worker'] = 1\n",
    "worker = pers_filt.Worker == 1\n",
    "\n",
    "pers_filt.loc[worker & white, 'Worker_White'] = 1\n",
    "pers_filt.loc[worker & blue, 'Worker_Blue'] = 1\n",
    "\n",
    "\"\"\"Apply Age Categories.\"\"\"\n",
    "u15 = pers_filt.AGE < 15\n",
    "o15 = pers_filt.AGE > 14\n",
    "\n",
    "u30 = pers_filt.AGE < 30\n",
    "o30 = pers_filt.AGE > 29\n",
    "\n",
    "u50 = pers_filt.AGE < 50\n",
    "o50 = pers_filt.AGE > 49\n",
    "\n",
    "u75 = pers_filt.AGE < 75\n",
    "o75 = pers_filt.AGE > 74\n",
    "\n",
    "pers_filt.loc[u15, '0-14'] = 1\n",
    "pers_filt.loc[o15 & u30, '15-29'] = 1\n",
    "pers_filt.loc[o30 & u50, '30-49'] = 1\n",
    "pers_filt.loc[o50 & u75, '50-74'] = 1\n",
    "pers_filt.loc[o75, '75+'] = 1\n",
    "\n",
    "pers_filt.loc[u15,'Age_cat'] = '0-14'\n",
    "pers_filt.loc[o15 & u30,'Age_cat'] =  '15-29'\n",
    "pers_filt.loc[o30 & u50,'Age_cat'] =  '30-49'\n",
    "pers_filt.loc[o50 & u75,'Age_cat'] =  '50-74'\n",
    "pers_filt.loc[o75,'Age_cat'] =  '75+'\n",
    "\n",
    "\n",
    "#Missing Record Check\n",
    "pers_filt.fillna(0, inplace = True)\n",
    "pers_filt['check'] = pers_filt['Worker'] + pers_filt['Dependent']\n",
    "print('ERRORS PRESENT:{} Person Records without Variable attached'.format(pers_filt[pers_filt.check!=1].PERSID.count()))\n",
    "print('REVIEW PERSID:{} '.format(pers_filt[pers_filt.check!=1].PERSID.to_list()))\n",
    "pers_filt.drop(columns = ['check'], inplace = True)\n",
    "\n",
    "Person = pers_filt\n",
    "del PrimSchl, SecSchl, TertPT, TertFT\n",
    "del workFT, workPT, non_workFT, non_workPT, white, blue\n",
    "del u15, o15,u30, o30, u50, o50, u75, o75\n",
    "del pers_filt\n",
    "del over5, under5, under18, over15, sub75, over75, under15, over20, o13, u13\n",
    "del retired, worker, UniFT, UniPT"
   ]
  },
  {
   "cell_type": "code",
   "execution_count": null,
   "metadata": {},
   "outputs": [],
   "source": [
    "\"\"\"Calculate Workers.\"\"\"\n",
    "trip_rev = TRIPS.copy()\n",
    "work_pers = Person.copy()\n",
    "\n",
    "\"\"\"Age Bands.\"\"\"\n",
    "over15 = work_pers.AGE > 14\n",
    "\n",
    "\"\"\"Processing.\"\"\"\n",
    "duration = trip_rev.DURATION > 60 #--------was 60-----------------------------------------------------------------------------------\n",
    "DEST_WP = trip_rev.DESTPLACE == 'My workplace'\n",
    "Not_PrimSchl = work_pers.STUDYING != 'Primary'\n",
    "\n",
    "work_person = trip_rev[['PERSID',\"HHID\", \"DESTPLACE\", \"DURATION\"]].loc[duration & DEST_WP,['PERSID']].drop_duplicates().astype({'PERSID': 'str'})\n",
    "\n",
    "work_person['does_work'] = 1\n",
    "\n",
    "work_pers = pd.merge(work_pers, work_person, on='PERSID', how='left')\n",
    "work_person_type = work_pers['does_work'] == 1\n",
    "not_worker = work_pers.Worker != 1\n",
    "blue_col = work_pers.Collar == 'Blue'\n",
    "white_col = work_pers.Collar == 'White'\n",
    "no_col = work_pers.Collar == 0\n",
    "work_pers.loc[work_person_type & over15 & Not_PrimSchl & not_worker,'Worker'] = 1\n",
    "work_pers.loc[work_person_type & over15 & Not_PrimSchl & not_worker & blue_col,'Worker_Blue'] = 1\n",
    "work_pers.loc[work_person_type & over15 & Not_PrimSchl & not_worker & white_col,'Worker_White'] = 1\n",
    "work_pers.loc[work_person_type & over15 & Not_PrimSchl & not_worker & no_col,'Worker_White'] = 1\n",
    "print(\"Number of Added Workers:{}\".format(len(work_pers.loc[work_person_type & over15 & not_worker])))\n",
    "print(\"Number of Added Workers - White:{}\".format(len(work_pers.loc[work_person_type & over15 & not_worker & white_col])))\n",
    "print(\"Number of Added Workers - Blue:{}\".format(len(work_pers.loc[work_person_type & over15 & not_worker & blue_col])))\n",
    "print(\"Number of Added Workers - None:{}\".format(len(work_pers.loc[work_person_type & over15 & not_worker & no_col])))\n",
    "work_pers.drop(columns=['does_work'], inplace = True)\n",
    "\n",
    "Person = work_pers\n",
    "del work_person, trip_rev, over15, blue_col, white_col, no_col, work_pers, work_person_type, not_worker, DEST_WP, duration"
   ]
  },
  {
   "cell_type": "code",
   "execution_count": null,
   "metadata": {},
   "outputs": [],
   "source": [
    "grouped_person = Person[['PERSID','0-14', '15-29', '30-49','50-74', '75+','Age_cat', 'Dependent', 'Worker', 'Student','Worker_Blue', 'Worker_White', 'STUDYING' ,'Student_Prim', 'Student_Sec','Student_Tert','Student_CC', 'AGE','HHID']].groupby('HHID').agg({'PERSID': 'count','0-14': 'sum', '15-29': 'sum', '30-49': 'sum','50-74': 'sum', '75+': 'sum', 'Worker_Blue':'sum', 'Worker_White': 'sum','Worker': 'sum', 'Student_Prim': 'sum', 'Student_Sec': 'sum','Student_Tert': 'sum','Student_CC': 'sum','Student': 'sum', 'AGE': 'mean'}).rename(columns={'PERSID':'Residents'})\n",
    "Household = pd.merge(Household, grouped_person, left_on = 'HHID', right_index = True)\n",
    "del grouped_person\n"
   ]
  },
  {
   "cell_type": "markdown",
   "metadata": {},
   "source": [
    "## Trips Table\n",
    "\n",
    "1. Identify the HomeBased Trips\n",
    "2. Additional Flags \n",
    "    2.1. Adding a work flag  \n",
    "    2.2. Adding Activity Duration flags  \n",
    "    2.3. Work flag  \n",
    "    2.4. Escort flag  \n",
    "    2.5. Others flag  \n",
    "    \n",
    "    \n",
    "    \n",
    "    \n"
   ]
  },
  {
   "cell_type": "code",
   "execution_count": null,
   "metadata": {},
   "outputs": [],
   "source": [
    "trip = TRIPS.copy()\n",
    "trip = trip.astype({'TRIPID': 'int64', 'HHID':'int64', \"PERSID\": 'str'})\n",
    "trip['trip_stops'] = trip['ENDSTOP'] - trip['STARTSTOP']\n",
    "trip = pd.merge(trip, Person[['PERSID','Collar','Collar2','WORKSTATUS', 'STUDYING',\n",
    "                              '0-14', '15-29', '30-49','50-74', '75+','Age_cat', \n",
    "                              'Dependent', 'Worker', 'Student','Worker_Blue', 'Worker_White', \n",
    "                              'Student_Prim', 'Student_Sec','Student_Tert', 'Student_CC',\n",
    "                              'AGE','HHID', 'HH_SA2', 'HH_SA3', 'HH_SA4', 'HH_LGA']], left_on = 'PERSID', right_on = 'PERSID', how='left').drop(columns='HHID_y').rename(columns={'HHID_x': 'HHID','SA2_NAME_2016': \"HH_SA2\", 'SA3_NAME_2016': \"HH_SA3\", 'SA4_NAME_2016': \"HH_SA4\", 'LGA_NAME_2016': \"HH_LGA\"})\n",
    "\n",
    "print('Number of Trip Records in Original: {}'.format(len(TRIPS.axes[0])))\n",
    "print('Number of Trip Records: {}'.format(len(trip.axes[0])))\n",
    "\n",
    "trip['old_TRIPWGT19'] = trip['TRIPWGT19']\n",
    "trip = trip.set_index(\"PERSID\")\n",
    "TripPers = Pers.rename(columns={'PERSWGT19':'TRIPWGT19'})"
   ]
  },
  {
   "cell_type": "code",
   "execution_count": null,
   "metadata": {},
   "outputs": [],
   "source": [
    "trip.update(TripPers.set_index('PERSID'))\n",
    "trip.reset_index(inplace=True)\n",
    "del TripPers"
   ]
  },
  {
   "cell_type": "code",
   "execution_count": null,
   "metadata": {},
   "outputs": [],
   "source": [
    "\"\"\"Purpose Adjustments.\"\"\"\n",
    "purp_filt = trip.copy()\n",
    "dur_u15 = purp_filt.DURATION < 16\n",
    "dur_o15 = purp_filt.DURATION > 15\n",
    "dur_o60 = purp_filt.DURATION > 59\n",
    "dur_o180 = purp_filt.DURATION > 179\n",
    "\n",
    "purp_filt.loc[dur_u15, 'Dur'] = 'u15'\n",
    "purp_filt.loc[dur_o15, 'Dur'] = 'o15'\n",
    "purp_filt.loc[dur_o60, 'Dur'] = 'o60'\n",
    "purp_filt.loc[dur_o180, 'Dur'] = 'o180'\n",
    "purp_filt.head()"
   ]
  },
  {
   "cell_type": "markdown",
   "metadata": {},
   "source": [
    "### Home Based Definition\n",
    "As it is defined below, home based flag represents the records which either their **origin place** or **destination place** is \"My home\", in addition to the records which either their **origin purpose** or **destination purpose** is \"At home\" or \"Go home\". "
   ]
  },
  {
   "cell_type": "code",
   "execution_count": null,
   "metadata": {},
   "outputs": [],
   "source": [
    "\"\"\" Home Based\n",
    "    Logic:\n",
    "    Place: 'My Home' = Home Based trip\n",
    "    ORIGPLACE: 'My Home' -> P2A Trip -> HB_Orig Flag\n",
    "    DESTPLACE: 'My Home' -> A2P Trip -> HB_Dest Flag\n",
    "    Flags:\n",
    "    HB_Orig or HB_Dest = 'Home_based' Flag\n",
    "\"\"\"\n",
    "home_is_orig = purp_filt.ORIGPLACE == 'My home'\n",
    "purp_filt.loc[home_is_orig, 'HB_Orig'] = 1\n",
    "home_is_dest = purp_filt.DESTPLACE == 'My home'\n",
    "purp_filt.loc[home_is_dest, 'HB_Dest'] = 1\n",
    "purp_filt.loc[home_is_orig | home_is_dest, 'Home_based'] = 1\n",
    "\n",
    "\n",
    "purp_filt.loc[home_is_orig, 'Orig_Type'] = 'Home'\n",
    "purp_filt.loc[home_is_dest, 'Dest_Type'] = 'Home'\n",
    "\n",
    "home_purp_is_orig = purp_filt.ORIGPURP == 'At Home'\n",
    "purp_filt.loc[home_purp_is_orig, 'HB_Orig'] = 1\n",
    "home_purp_is_dest = purp_filt.DESTPURP == 'Go home'\n",
    "purp_filt.loc[home_purp_is_dest, 'HB_Dest'] = 1\n",
    "purp_filt.loc[home_purp_is_orig | home_purp_is_dest, 'Home_based'] = 1\n",
    "\n",
    "del home_is_orig, home_is_dest, home_purp_is_orig, home_purp_is_dest"
   ]
  },
  {
   "cell_type": "markdown",
   "metadata": {},
   "source": [
    "### Work Flag Definition\n",
    "As it is defined below, work flag represents the records which either their **origin purpose** or **destination purpose** is \"Work (my workplace)\" or \"Work (other work reason)\". "
   ]
  },
  {
   "cell_type": "code",
   "execution_count": null,
   "metadata": {},
   "outputs": [],
   "source": [
    "\"\"\" Work Trip\n",
    "    Logic:\n",
    "    PLACE: 'My Workplace' = Work Trip\n",
    "    PLACE: 'Other work-related place' = Work Trip\n",
    "    Flags:\n",
    "    ORIG/DEST Workplace or other Related = 'work' Flag\n",
    "\"\"\"\n",
    "work_orig = purp_filt.ORIGPLACE == 'My workplace' \n",
    "work_dest = purp_filt.DESTPLACE == 'My workplace'\n",
    "work_orig_other = purp_filt.ORIGPLACE == 'Other work-related place'\n",
    "work_dest_other = purp_filt.DESTPLACE == 'Other work-related place'\n",
    "\n",
    "# purp_filt.loc[work_orig | work_dest | work_orig_other | work_dest_other, 'work'] = 1\n",
    "# purp_filt.loc[work_orig | work_orig_other, 'Orig_Type'] = 'work'\n",
    "# purp_filt.loc[work_dest | work_dest_other, 'Dest_Type'] = 'work'\n",
    "\n",
    "## last three lines are being commented since the work flag should be True if the purpose is \"work\" not \n",
    "## the places. In some record, even though the origplace or destplace is work-related, the purpose for the trip is not working.\n",
    "\n",
    "del work_orig, work_dest, work_dest_other, work_orig_other\n",
    "\n",
    "\n",
    "#Work Purpose\n",
    "work_o_purp = purp_filt.ORIGPURP == 'Work (my workplace)'\n",
    "work_d_purp = purp_filt.DESTPURP == 'Work (my workplace)'\n",
    "work_o_purp2 = purp_filt.ORIGPURP == 'Work (other work reason)'\n",
    "work_d_purp2 = purp_filt.DESTPURP == 'Work (other work reason)'\n",
    "\n",
    "## Modification: The nest three lines are added\n",
    "purp_filt.loc[work_o_purp | work_d_purp | work_o_purp2 | work_d_purp2, 'work'] = 1\n",
    "purp_filt.loc[work_o_purp | work_o_purp2, 'Orig_Type'] = 'work'\n",
    "purp_filt.loc[work_d_purp | work_d_purp2, 'Dest_Type'] = 'work'\n",
    "\n",
    "del work_o_purp, work_d_purp, work_o_purp2, work_d_purp2\n",
    "purp_filt.head()"
   ]
  },
  {
   "cell_type": "markdown",
   "metadata": {},
   "source": [
    "### Education Definitions\n",
    "* Education Purpose flag represents the records which either their **origin purpose** or **destination purpose** is \"Education\". \n",
    "\n",
    "* **Edu_cps_place** flags represent the records either their origin or destination is whitin the group of places including: Primary or secondary school, Childcare or kindergarten and Other study-related place. \n",
    "\n",
    "**Note**:\n",
    "\n",
    " **Edu_p** flag represents the primary students where one of the following places are the origin or the destination of a trip:\n",
    "    * Primary or secondary school\n",
    "    * Other study-related place\n",
    "    * My campus\n",
    "    \n",
    " **Edu_s** flag represents the secondary students where one of the following places are the origin or the destination of a trip:\n",
    "    * Primary or secondary school\n",
    "    * Other study-related place\n",
    "    * My campus\n",
    "\n",
    "**These flags are used in defining HBEp and HBEs category. \n",
    "There are 3 trips through which a primary student with the purpose of Education goes to or comes from My campus.\n",
    "There are 22 trips through which a secondary student with the purpose of Education goes to or comes from My campus. \n",
    "Since the age of trip makers falls within the acceptable range we have kept these records untouched**"
   ]
  },
  {
   "cell_type": "code",
   "execution_count": null,
   "metadata": {},
   "outputs": [],
   "source": [
    "##Education Flag\n",
    "#Purpose\n",
    "educ_purp_o = purp_filt.ORIGPURP == 'Education'\n",
    "educ_purp_d = purp_filt.DESTPURP == 'Education'\n",
    "\n",
    "purp_filt.loc[educ_purp_o | educ_purp_d, 'Edu_purp'] = 1\n",
    "\n",
    "\"\"\" Primary/Secondary\n",
    "    Logic: \n",
    "    Place: 'Primary or secondary school' = HBE Trip\n",
    "    Place: 'Childcare or kindergarten' = HBE Trip\n",
    "    Flags:\n",
    "    ORIG/DEST Prim/Sec or Child/Kindy = \"Edu_p/s\" Flag\n",
    "\"\"\"\n",
    "prim = purp_filt.Student_Prim == 1\n",
    "sec = purp_filt.Student_Sec == 1\n",
    "tert = purp_filt.Student_Tert == 1\n",
    "CC_kids = purp_filt.Student_CC == 1\n",
    "non_student = purp_filt.Student != 1\n",
    "purp_filt['Student_ALL'] = purp_filt['Student_Prim'] + purp_filt['Student_Sec'] + purp_filt['Student_Tert'] + \n",
    "purp_filt['Student_CC']\n",
    "non_all_student = purp_filt.Student_ALL == 0\n",
    "purp_filt['Student_Young'] = purp_filt['Student_Prim'] + purp_filt['Student_Sec'] + purp_filt['Student_CC']\n",
    "non_young_student = purp_filt.Student_Young == 0\n",
    "\n",
    "primsec_orig = purp_filt.ORIGPLACE == 'Primary or secondary school' \n",
    "primsec_dest = purp_filt.DESTPLACE == 'Primary or secondary school' \n",
    "CCKindy_orig = purp_filt.ORIGPLACE == 'Childcare or kindergarten' \n",
    "CCKindy_dest = purp_filt.DESTPLACE == 'Childcare or kindergarten'\n",
    "other_ed_orig = purp_filt.ORIGPLACE == 'Other study-related place' \n",
    "other_ed_dest = purp_filt.DESTPLACE == 'Other study-related place'\n",
    "campus_ed_orig = purp_filt.ORIGPLACE == 'My campus' \n",
    "campus_ed_dest = purp_filt.DESTPLACE == 'My campus'\n",
    "\n",
    "# purp_filt.loc[primsec_orig | primsec_dest | CCKindy_orig | CCKindy_dest | other_ed_orig | other_ed_dest | campus_ed_orig | campus_ed_dest, 'Edu_place'] = 1\n",
    "\n",
    "purp_filt.loc[primsec_orig | primsec_dest | CCKindy_orig | CCKindy_dest | other_ed_orig | other_ed_dest, 'Edu_cps_place'] = 1\n",
    "\n",
    "purp_filt.loc[primsec_orig | CCKindy_orig | other_ed_orig | campus_ed_orig , 'Orig_Type'] = 'Education'\n",
    "purp_filt.loc[primsec_dest | CCKindy_dest | other_ed_dest | campus_ed_dest, 'Dest_Type'] = 'Education'\n",
    "\n",
    "\"\"\"\n",
    "Categorise education trips by students\n",
    "\"\"\"\n",
    "# educ_O_D = purp_filt.Edu_place == 1\n",
    "purp_filt.loc[primsec_orig & prim, 'Edu_p'] = 1\n",
    "purp_filt.loc[primsec_dest & prim, 'Edu_p'] = 1\n",
    "purp_filt.loc[other_ed_orig & prim, 'Edu_p'] = 1\n",
    "purp_filt.loc[other_ed_dest & prim, 'Edu_p'] = 1\n",
    "purp_filt.loc[campus_ed_orig & prim, 'Edu_p'] = 1\n",
    "purp_filt.loc[campus_ed_dest & prim, 'Edu_p'] = 1\n",
    "\n",
    "purp_filt.loc[primsec_orig & sec, 'Edu_s'] = 1\n",
    "purp_filt.loc[primsec_dest & sec, 'Edu_s'] = 1\n",
    "purp_filt.loc[other_ed_orig & sec, 'Edu_s'] = 1\n",
    "purp_filt.loc[other_ed_dest & sec, 'Edu_s'] = 1\n",
    "purp_filt.loc[campus_ed_orig & sec, 'Edu_s'] = 1\n",
    "purp_filt.loc[campus_ed_dest & sec, 'Edu_s'] = 1\n",
    "\n",
    "purp_filt.loc[other_ed_orig & tert, 'Edu_t'] = 1\n",
    "purp_filt.loc[other_ed_dest & tert, 'Edu_t'] = 1\n",
    "purp_filt.loc[campus_ed_orig & tert, 'Edu_t'] = 1\n",
    "purp_filt.loc[campus_ed_dest & tert, 'Edu_t'] = 1\n",
    "\n",
    "purp_filt.loc[CCKindy_orig & CC_kids, 'Edu_c'] = 1\n",
    "purp_filt.loc[CCKindy_dest & CC_kids, 'Edu_c'] = 1\n",
    "\n",
    "# purp_filt.loc[educ_O_D & non_all_student, 'Edu_non'] = 1"
   ]
  },
  {
   "cell_type": "markdown",
   "metadata": {},
   "source": [
    "### Shop Flag Definition\n",
    "As it is defined below, Shop place flag represents the records which either their **origin place** or **destination place** is within the places: \n",
    "* Shop or supermarket, \n",
    "* Restaurant, cafÃ©, or food outlet, \n",
    "* Petrol station "
   ]
  },
  {
   "cell_type": "code",
   "execution_count": null,
   "metadata": {},
   "outputs": [],
   "source": [
    "\"\"\"Shopping.\"\"\"\n",
    "shop_orig = purp_filt.ORIGPLACE == 'Shop or supermarket' \n",
    "shop_dest = purp_filt.DESTPLACE == 'Shop or supermarket'\n",
    "food_orig = purp_filt.ORIGPLACE == 'Restaurant, cafÃ©, or food outlet'\n",
    "food_dest = purp_filt.DESTPLACE == 'Restaurant, cafÃ©, or food outlet'\n",
    "fuel_orig = purp_filt.ORIGPLACE == 'Petrol station'\n",
    "fuel_dest = purp_filt.DESTPLACE == 'Petrol station'\n",
    "\n",
    "purp_filt.loc[shop_orig | shop_dest | food_orig | food_dest | fuel_dest | fuel_orig , 'shop'] = 1\n",
    "purp_filt.loc[shop_orig | food_orig, 'Orig_Type'] = 'Shopping'\n",
    "purp_filt.loc[shop_dest | food_dest, 'Dest_Type'] = 'Shopping'\n",
    "purp_filt.loc[fuel_orig , 'Orig_Type'] = 'Fuel'\n",
    "purp_filt.loc[fuel_dest , 'Dest_Type'] = 'Fuel'\n",
    "del shop_orig, shop_dest, food_orig, food_dest, fuel_dest, fuel_orig"
   ]
  },
  {
   "cell_type": "markdown",
   "metadata": {},
   "source": [
    "### Escort Flag Definition\n",
    "Escort flag represents the records where either the origin-purpose or the destination-purpose is transporting a passenger/s or pick up or drop off a passenger or just-accompanying-someone."
   ]
  },
  {
   "cell_type": "code",
   "execution_count": null,
   "metadata": {},
   "outputs": [],
   "source": [
    "#Escort Flag\n",
    "escort_purp_orig_1_flag = purp_filt.ORIGPURP == 'Transporting a passenger/s'\n",
    "escort_purp_dest_1_flag = purp_filt.DESTPURP == 'Transporting a passenger/s'\n",
    "escort_purp_orig_2_flag = purp_filt.ORIGPURP == 'Pick up or drop off a passenger'\n",
    "escort_purp_dest_2_flag = purp_filt.DESTPURP == 'Pick up or drop off a passenger'\n",
    "escort_purp_orig_3_flag = purp_filt.ORIGPURP == 'Just accompanying someone'\n",
    "escort_purp_dest_3_flag = purp_filt.DESTPURP == 'Just accompanying someone'\n",
    "\n",
    "purp_filt.loc[escort_purp_orig_1_flag | escort_purp_orig_2_flag | escort_purp_dest_1_flag | escort_purp_dest_2_flag | escort_purp_orig_3_flag | escort_purp_dest_3_flag, 'escort'] = 1\n",
    "\n",
    "del escort_purp_orig_1_flag, escort_purp_orig_2_flag, escort_purp_dest_1_flag, escort_purp_dest_2_flag\n",
    "del escort_purp_orig_3_flag, escort_purp_dest_3_flag"
   ]
  },
  {
   "cell_type": "markdown",
   "metadata": {},
   "source": [
    "### Other Flag Definition\n",
    "\n",
    "Others flag represents the records where either the origin-place or destination-place is someone else's home or other-place-(please-specify)."
   ]
  },
  {
   "cell_type": "code",
   "execution_count": null,
   "metadata": {},
   "outputs": [],
   "source": [
    "#Other Flag\n",
    "other_home_orig = purp_filt.ORIGPLACE == \"Someone else's home\"\n",
    "other_home_dest = purp_filt.DESTPLACE == \"Someone else's home\"\n",
    "purp_filt.loc[other_home_orig | other_home_dest, 'others home'] = 1\n",
    "other_place_orig = purp_filt.ORIGPLACE == \"Other place (please specify)\"\n",
    "other_place_dest = purp_filt.DESTPLACE == \"Other place (please specify)\"\n",
    "purp_filt.loc[other_home_orig | other_home_dest | other_place_orig | other_place_dest, 'other'] = 1\n",
    "purp_filt.loc[other_home_orig, 'Orig_Type'] = 'Other Home'\n",
    "purp_filt.loc[other_place_orig , 'Orig_Type'] = 'Other Place'\n",
    "purp_filt.loc[other_home_dest, 'Dest_Type'] = 'Other Home'\n",
    "purp_filt.loc[other_place_dest, 'Dest_Type'] = 'Other Place'\n",
    "del other_home_orig, other_home_dest, other_place_orig, other_place_dest\n",
    "purp_filt.fillna(0, inplace = True)"
   ]
  },
  {
   "cell_type": "markdown",
   "metadata": {},
   "source": [
    "## 1. Home Based Trips\n",
    "Home based trips are the ones where their home based flags are true or in other words, their origin or destination places are My Home or their origin or destination purposes are At Home or Go Home.\n",
    "\n",
    "These trips based on their other conditions categorized as the following categories:\n",
    "* HBWW\n",
    "* HBWB\n",
    "* HBEp\n",
    "* HBEs\n",
    "* HBEt\n",
    "* HBEc\n",
    "* HBEe\n",
    "* HBS\n",
    "* HBOr\n",
    "* HBOe\n",
    "* HBO"
   ]
  },
  {
   "cell_type": "markdown",
   "metadata": {},
   "source": [
    "### 1.1. Home Based Work (HBWW and HBWB)\n",
    "A home-based work trip defines as a home-based trip which either its origin or destination purpose is \"Work (my workplace)\" or \"Work (other work reason)\", in addition to the condition that the person should be a worker either white or blue.\n",
    "\n",
    "A person is considered as worker when:\n",
    "* their WORKSTATUS is WorkFullTime or WorkPartTime; or\n",
    "* Or their age are greater than 14, and have made at least a trip with the destination place is My Workplace and the duration is greater than 60. (Correction)\n",
    "\n",
    "Being white or blue is determined based on the Collar flags in Person Table and ANZSCO_adjustment.csv. \n",
    "\n",
    "**Note**: If a worker (as it is defined in the correction part) has a person studying value equalls to \"Primary\" or his/her WORKSTATUS is \"retired\" or his/her age is less than 15, he/she recieves Collar tag of Nan or 0 and he/she is considered as Worker_White in the correction part. "
   ]
  },
  {
   "cell_type": "code",
   "execution_count": null,
   "metadata": {},
   "outputs": [],
   "source": [
    "\"\"\"Trip Purpose Calculator\"\"\"\n",
    "purp_filt['Trip_Purpose'] = 0\n",
    "\n",
    "#HBW - White & Blue\n",
    "w_collar_flag = purp_filt.Worker_White == 1\n",
    "b_collar_flag = purp_filt.Worker_Blue == 1\n",
    "hb_flag = purp_filt.Home_based == 1\n",
    "work_flag = purp_filt.work == 1\n",
    "purp_filt.loc[w_collar_flag & hb_flag & work_flag, 'Trip_Purpose'] = 'HBWW'\n",
    "done_flag = purp_filt.Trip_Purpose == 0\n",
    "purp_filt.loc[b_collar_flag & hb_flag & work_flag, 'Trip_Purpose'] = 'HBWB'\n",
    "\n",
    "del w_collar_flag, b_collar_flag, work_flag, hb_flag\n",
    "purp_filt.Trip_Purpose.value_counts()"
   ]
  },
  {
   "cell_type": "markdown",
   "metadata": {},
   "source": [
    "### 1.1. Home Based Education (HBEp, HBEs, HBEs, HBEt, HBEc)\n",
    "Home based Education trip generally defines as a home based trip which either its origin or destination place is one of the education places, in addition to the condition that the person should be student and the trip purpose be Education.\n",
    "\n",
    "A person is considered as student when in Person table his/her STUDYING value is primary, secondary, tertiaryFullTime, tertiaryPartTime or his/her MAINACT is Childcare/Kindergarten (or as modified later in the code his/her STUDYING value is CC/Kindy)\n",
    "\n",
    "**Note**: For HBEc, none of the records has Education purpose on none of their ends."
   ]
  },
  {
   "cell_type": "code",
   "execution_count": null,
   "metadata": {},
   "outputs": [],
   "source": [
    "done_flag = purp_filt.Trip_Purpose == 0\n",
    "hb_flag = purp_filt.Home_based == 1\n",
    "edu_purp_flag = purp_filt[\"Edu_purp\"] == 1\n",
    "edu_p_flag = purp_filt['Edu_p'] == 1\n",
    "edu_s_flag = purp_filt['Edu_s'] == 1\n",
    "edu_t_flag = purp_filt['Edu_t'] == 1\n",
    "edu_c_flag = purp_filt['Edu_c'] == 1\n",
    "\n",
    "purp_filt.loc[done_flag & hb_flag & edu_purp_flag & edu_p_flag, 'Trip_Purpose'] = 'HBEp'\n",
    "purp_filt.loc[done_flag & hb_flag & edu_purp_flag & edu_s_flag, 'Trip_Purpose'] = 'HBEs'\n",
    "purp_filt.loc[done_flag & hb_flag & edu_purp_flag & edu_t_flag, 'Trip_Purpose'] = 'HBEt'\n",
    "purp_filt.loc[done_flag & hb_flag  & edu_c_flag, 'Trip_Purpose'] = 'HBEc'    \n",
    "## Modification: edu_purp_flag should be added to the conditions for the HBEc catagory"
   ]
  },
  {
   "cell_type": "code",
   "execution_count": null,
   "metadata": {},
   "outputs": [],
   "source": [
    "purp_filt.Trip_Purpose.value_counts()"
   ]
  },
  {
   "cell_type": "markdown",
   "metadata": {},
   "source": [
    "* #### Check the necessity of considering My Campus as education places for HBEp\n",
    "To check this need, we calculate the number of trips by considering the HBEp conditions, specifically setting My Campus as Education plac in defining \"Edu_p\" (in Education Flag definitions section). As it is shown below, the age of all of the people with these conditions are between 5 and 12. Thus, we consider this place too in Edu_p definition."
   ]
  },
  {
   "cell_type": "code",
   "execution_count": null,
   "metadata": {},
   "outputs": [],
   "source": [
    "purp_filt[purp_filt['Trip_Purpose']== 'HBEp']['AGE']"
   ]
  },
  {
   "cell_type": "markdown",
   "metadata": {},
   "source": [
    "* #### Check the necessity of considering My Campus as education places for HBEs\n",
    "To check this need, we calculate the number of trips by considering the HBEs conditions, specifically setting My Campus as Education plac in defining \"Edu_s\" (in Education Flag definitions section). As it is shown below, the age of all of the people with these conditions are between 14 and 18. Thus, we consider this place too in Edu_s definition."
   ]
  },
  {
   "cell_type": "code",
   "execution_count": null,
   "metadata": {},
   "outputs": [],
   "source": [
    "purp_filt[purp_filt['Trip_Purpose']== 'HBEs']['AGE']"
   ]
  },
  {
   "cell_type": "code",
   "execution_count": null,
   "metadata": {},
   "outputs": [],
   "source": [
    "print(\"Number unique PERSIDs with HBEc trip purpose:\")\n",
    "HBEC_unique_pers = len(purp_filt[purp_filt['Trip_Purpose'] == 'HBEc'].PERSID.unique())\n",
    "print(HBEC_unique_pers)\n",
    "\n",
    "print(\"Number unique TRIPIDs with HBEc trip purpose:\")\n",
    "HBEC_unique_trip = len(purp_filt[purp_filt['Trip_Purpose'] == 'HBEc'].TRIPID.unique())\n",
    "print(HBEC_unique_trip)\n"
   ]
  },
  {
   "cell_type": "code",
   "execution_count": null,
   "metadata": {},
   "outputs": [],
   "source": [
    "\"\"\"Reclassify Escorted School trips.\"\"\"\n",
    "done_flag = purp_filt.Trip_Purpose == 0\n",
    "hb_flag = purp_filt.Home_based == 1\n",
    "hb_o_flag = purp_filt.HB_Orig == 1\n",
    "hb_d_flag = purp_filt.HB_Dest == 1\n",
    "edu_cps_flag = purp_filt['Edu_cps_place'] == 1\n",
    "escort_flag = purp_filt.escort == 1\n",
    "CC_student = purp_filt.Student_CC == 1\n",
    "prim_student = purp_filt.Student_Prim == 1\n",
    "sec_student = purp_filt.Student_Sec == 1\n",
    "young_student = purp_filt.Student_Young == 1\n",
    "dur_u15_a = purp_filt.Dur == 'u15'\n",
    "dur_o60_a = purp_filt.Dur == 'o60'\n",
    "\n",
    "purp_filt.loc[done_flag & hb_o_flag & edu_cps_flag & CC_student & dur_o60_a, 'Trip_Purpose'] = 'HBEc'\n",
    "purp_filt.loc[done_flag & hb_o_flag & edu_cps_flag & prim_student & dur_o60_a, 'Trip_Purpose'] = 'HBEp'\n",
    "purp_filt.loc[done_flag & hb_d_flag & edu_cps_flag & CC_student & dur_o60_a, 'Trip_Purpose'] = 'HBEc'\n",
    "purp_filt.loc[done_flag & hb_d_flag & edu_cps_flag & prim_student & dur_o60_a, 'Trip_Purpose'] = 'HBEp'\n",
    "\n",
    "purp_filt.loc[done_flag & hb_o_flag & edu_cps_flag & sec_student & dur_o60_a, 'Trip_Purpose'] = 'HBEs'\n",
    "purp_filt.loc[done_flag & hb_d_flag & edu_cps_flag & sec_student & dur_o60_a, 'Trip_Purpose'] = 'HBEs'\n",
    "\n",
    "print(\"Number of unique PERSIDs with HBEc trip purpose after correction:\")\n",
    "HBEC_unique_pers = len(purp_filt[purp_filt['Trip_Purpose'] == 'HBEc'].PERSID.unique())\n",
    "print(HBEC_unique_pers)\n",
    "\n",
    "print(\"Number of unique TRIPIDs with HBEc trip purpose after correction:\")\n",
    "HBEC_unique_trip = len(purp_filt[purp_filt['Trip_Purpose'] == 'HBEc'].TRIPID.unique())\n",
    "print(HBEC_unique_trip)\n",
    "\n",
    "hbec_trips = purp_filt['Trip_Purpose'] == 'HBEc'\n",
    "edu_purp_flag = purp_filt[\"Edu_purp\"] == 1\n",
    "HBEC_education_end_purpose = len(purp_filt.loc[hbec_trips & edu_purp_flag].Trip_Purpose.value_counts())\n",
    "print(\"Number of HBEc trips with Education End purpose:\")\n",
    "print(HBEC_education_end_purpose)\n",
    "\n",
    "del CC_student, prim_student, young_student, dur_u15_a, dur_o60_a"
   ]
  },
  {
   "cell_type": "markdown",
   "metadata": {},
   "source": [
    "**Note**: As it is showed above, by performing correction, the number of unique PERSIDs do not increased, but the 3 new HBEc trips ID are added for HBEc trips."
   ]
  },
  {
   "cell_type": "code",
   "execution_count": null,
   "metadata": {},
   "outputs": [],
   "source": [
    "purp_filt.Trip_Purpose.value_counts()"
   ]
  },
  {
   "cell_type": "code",
   "execution_count": null,
   "metadata": {},
   "outputs": [],
   "source": [
    "\"\"\"Education Escort Trips.\"\"\"\n",
    "done_flag = purp_filt.Trip_Purpose == 0\n",
    "hb_flag = purp_filt.Home_based == 1\n",
    "hb_o_flag = purp_filt.HB_Orig == 1\n",
    "hb_d_flag = purp_filt.HB_Dest == 1\n",
    "driver_flag = purp_filt.MAINMODE == 'Car driver'\n",
    "escort_flag = purp_filt.escort == 1\n",
    "non_student = purp_filt.Student_Young != 1#################################\n",
    "young_student = purp_filt.Student_Young == 1\n",
    "dur_u15_a = purp_filt.Dur == 'u15'\n",
    "dur_o15_a = purp_filt.Dur == 'o15'\n",
    "\n",
    "edu_cps_flag = purp_filt['Edu_cps_place'] == 1\n",
    "# purp_filt.loc[done_flag & hb_flag & edu_cps_flag & driver_flag & escort_flag, 'Trip_Purpose'] = 'HBEe' #\n",
    "purp_filt.loc[done_flag & hb_flag & edu_cps_flag & escort_flag, 'Trip_Purpose'] = 'HBEe' #\n",
    "\n",
    "print(\"Number of trip records where the duration is below 15:\")\n",
    "hbee_u15 = purp_filt[done_flag & hb_flag & edu_cps_flag & escort_flag & dur_u15_a].Trip_Purpose.count() #\n",
    "print(hbee_u15)\n",
    "\n",
    "print(\"Number of trip records where the duration is above 15:\")\n",
    "hbee_o15 = purp_filt[done_flag & hb_flag & edu_cps_flag & escort_flag & dur_o15_a].Trip_Purpose.count() #\n",
    "print(hbee_o15)\n",
    "\n",
    "done_flag = purp_filt.Trip_Purpose == 0\n",
    "\n",
    "purp_filt.Trip_Purpose.value_counts()\n",
    "\n",
    "# Omitted Correction:\n",
    "# purp_filt.loc[done_flag & hb_flag & edu_cps_flag & driver_flag & edu_purp_flag , 'Trip_Purpose'] = 'HBEe'"
   ]
  },
  {
   "cell_type": "code",
   "execution_count": null,
   "metadata": {},
   "outputs": [],
   "source": [
    "# Correction 1:\n",
    "purp_filt.loc[done_flag & hb_flag & edu_cps_flag & non_student & escort_flag , 'Trip_Purpose'] = 'HBEe'\n",
    "purp_filt.Trip_Purpose.value_counts()"
   ]
  },
  {
   "cell_type": "code",
   "execution_count": null,
   "metadata": {},
   "outputs": [],
   "source": [
    "# Correction 2:\n",
    "purp_filt.loc[done_flag & hb_o_flag & edu_cps_flag & young_student & escort_flag & dur_u15_a , 'Trip_Purpose'] = 'HBEe'\n",
    "purp_filt.Trip_Purpose.value_counts()"
   ]
  },
  {
   "cell_type": "code",
   "execution_count": null,
   "metadata": {},
   "outputs": [],
   "source": [
    "# Correction 3:\n",
    "purp_filt.loc[done_flag & hb_d_flag & edu_cps_flag & young_student & escort_flag, 'Trip_Purpose'] = 'HBEe'\n",
    "\n",
    "del non_student, young_student, dur_u15_a, escort_flag, hb_o_flag, hb_d_flag,hb_flag"
   ]
  },
  {
   "cell_type": "code",
   "execution_count": null,
   "metadata": {},
   "outputs": [],
   "source": [
    "purp_filt.Trip_Purpose.value_counts()"
   ]
  },
  {
   "cell_type": "markdown",
   "metadata": {},
   "source": [
    "### 1.3. Home Based Shopping (HBS)"
   ]
  },
  {
   "cell_type": "code",
   "execution_count": null,
   "metadata": {},
   "outputs": [],
   "source": [
    "\"\"\"HBS - Shopping\"\"\"\n",
    "done_flag = purp_filt.Trip_Purpose == 0\n",
    "hb_flag = purp_filt.Home_based == 1\n",
    "shop_flag = purp_filt.shop == 1\n",
    "\n",
    "# purp_filt.loc[done_flag & hb_flag & shop_flag, 'Trip_Purpose'] = 'HBS' \n",
    "# del done_flag, hb_flag, shop_flag\n",
    "## Modification: the last two lines become comment since they check the places not the purposes for HBS trips. The next\n",
    "## lines are added.\n",
    "\n",
    "eat_flag_orig = purp_filt.ORIGPURP == 'Eat/drink'\n",
    "eat_flag_dest = purp_filt.DESTPURP == 'Eat/drink'\n",
    "shop_flag_orig = purp_filt.ORIGPURP == 'Shopping'\n",
    "shop_flag_dest = purp_filt.DESTPURP == 'Shopping'\n",
    "fuel_flag_orig = purp_filt.ORIGPURP == 'Refuel my vehicle'\n",
    "fuel_flag_dest = purp_filt.DESTPURP == 'Refuel my vehicle'\n",
    "\n",
    "purp_filt.loc[eat_flag_orig | eat_flag_dest | shop_flag_orig | shop_flag_dest | fuel_flag_orig | fuel_flag_dest, 'shop_purp'] = 1\n",
    "shop_purp_flag = purp_filt.shop_purp == 1\n",
    "purp_filt.loc[shop_purp_flag & shop_flag & hb_flag & done_flag, \"Trip_Purpose\"] = 'HBS'\n"
   ]
  },
  {
   "cell_type": "code",
   "execution_count": null,
   "metadata": {},
   "outputs": [],
   "source": [
    "purp_filt.Trip_Purpose.value_counts()"
   ]
  },
  {
   "cell_type": "markdown",
   "metadata": {},
   "source": [
    "### 1.4. Home Based Recreation (HBOr)"
   ]
  },
  {
   "cell_type": "code",
   "execution_count": null,
   "metadata": {},
   "outputs": [],
   "source": [
    "\"\"\"#HBO Recreation\"\"\"\n",
    "rec_orig = purp_filt.ORIGPURP == 'Recreation/leisure activity'\n",
    "rec_dest = purp_filt.DESTPURP == 'Recreation/leisure activity'\n",
    "done_flag = purp_filt.Trip_Purpose == 0\n",
    "hb_flag = purp_filt.Home_based == 1\n",
    "\n",
    "purp_filt.loc[done_flag & hb_flag & rec_orig, 'Trip_Purpose'] = 'HBOr'\n",
    "purp_filt.loc[done_flag & hb_flag & rec_dest, 'Trip_Purpose'] = 'HBOr'\n",
    "del rec_orig, rec_dest, hb_flag, done_flag"
   ]
  },
  {
   "cell_type": "code",
   "execution_count": null,
   "metadata": {},
   "outputs": [],
   "source": [
    "purp_filt.Trip_Purpose.value_counts()"
   ]
  },
  {
   "cell_type": "markdown",
   "metadata": {},
   "source": [
    "### 1.5. Home Based Other Escort & Other (HBOe and HBO)"
   ]
  },
  {
   "cell_type": "code",
   "execution_count": null,
   "metadata": {},
   "outputs": [],
   "source": [
    "\"\"\"HBO - Escort & Other\"\"\"\n",
    "done_flag = purp_filt.Trip_Purpose == 0\n",
    "hb_flag = purp_filt.Home_based == 1\n",
    "escort_flag = purp_filt.escort == 1\n",
    "other_flag = purp_filt.other == 1\n",
    "purp_filt.loc[done_flag & hb_flag & other_flag & escort_flag, 'Trip_Purpose'] = 'HBOe'\n",
    "\n",
    "done_flag = purp_filt.Trip_Purpose == 0\n",
    "purp_filt.loc[done_flag & hb_flag & other_flag, 'Trip_Purpose'] = 'HBO'\n",
    "del done_flag, hb_flag, escort_flag, other_flag"
   ]
  },
  {
   "cell_type": "code",
   "execution_count": null,
   "metadata": {},
   "outputs": [],
   "source": [
    "purp_filt.Trip_Purpose.value_counts()"
   ]
  },
  {
   "cell_type": "markdown",
   "metadata": {},
   "source": [
    "### 1.6. Home Based Trips - Final Allocation"
   ]
  },
  {
   "cell_type": "code",
   "execution_count": null,
   "metadata": {},
   "outputs": [],
   "source": [
    "#Non-Collared_Work\n",
    "done_flag = purp_filt.Trip_Purpose == 0\n",
    "hb_flag = purp_filt.Home_based == 1\n",
    "work_flag = purp_filt.work == 1\n",
    "\n",
    "\n",
    "\n",
    "age_filter = purp_filt.AGE > 14\n",
    "dest_accompy = purp_filt.DESTPURP != 'Just accompanying someone'\n",
    "orig_accompy = purp_filt.ORIGPURP != 'Just accompanying someone'\n",
    "\n",
    "dest_drop = purp_filt.DESTPURP != 'Pick up or drop off a passenger'\n",
    "orig_drop = purp_filt.ORIGPURP != 'Pick up or drop off a passenger'\n",
    "\n",
    "dest_rec = purp_filt.DESTPURP != 'Recreation/leisure activity'\n",
    "orig_rec = purp_filt.ORIGPURP != 'Recreation/leisure activity'\n",
    "dest_deliv = purp_filt.DESTPURP != 'Pickup/deliver something (not work-related)'\n",
    "orig_deliv = purp_filt.ORIGPURP != 'Pickup/deliver something (not work-related)'\n",
    "dest_social = purp_filt.DESTPURP != 'Social Visit'\n",
    "orig_social = purp_filt.ORIGPURP != 'Social Visit'\n",
    "dest_shop = purp_filt.DESTPURP != 'Shopping'\n",
    "orig_shop = purp_filt.ORIGPURP != 'Shopping'\n",
    "\n",
    "\n",
    "purp_filt.loc[done_flag & hb_flag & work_flag & age_filter & dest_accompy & orig_accompy & dest_drop & orig_drop & dest_rec & orig_rec & dest_deliv & orig_deliv & dest_social & orig_social & dest_shop & orig_shop, 'Trip_Purpose'] = 'HBWW'\n",
    "#purp_filt.loc[done_flag & hb_flag & work_flag, 'Trip_Purpose'] = 'HBWW'\n",
    "\n",
    "del age_filter, dest_accompy, orig_accompy, dest_drop, orig_drop, dest_rec, orig_rec, dest_deliv, orig_deliv, dest_social, orig_social, dest_shop, orig_shop\n",
    "\n",
    "\n",
    "#HomeBaseHome LMAO xD\n",
    "done_flag = purp_filt.Trip_Purpose == 0\n",
    "home_orig = purp_filt.ORIGPLACE == 'My home'\n",
    "home_dest = purp_filt.DESTPLACE == 'My home'\n",
    "purp_filt.loc[done_flag & home_orig & home_dest, 'Trip_Purpose'] = 'HBOr' #now HBOr\n",
    "del done_flag, home_orig, home_dest\n",
    "#print(purp_filt['Trip_Purpose'].value_counts())\n",
    "\n",
    "#Home Based Escorting\n",
    "done_flag = purp_filt.Trip_Purpose == 0\n",
    "hb_flag = purp_filt.Home_based == 1\n",
    "escort_flag = purp_filt.escort == 1\n",
    "purp_filt.loc[done_flag & hb_flag & escort_flag, 'Trip_Purpose'] = 'HBOe'\n",
    "del done_flag, hb_flag, escort_flag\n",
    "\n",
    "\n",
    "#print(purp_filt['Trip_Purpose'].value_counts())\n",
    "\n",
    "#Home Based Other - Remainder\n",
    "done_flag = purp_filt.Trip_Purpose == 0\n",
    "hb_flag = purp_filt.Home_based == 1\n",
    "purp_filt.loc[done_flag & hb_flag, 'Trip_Purpose'] = 'HBO'\n",
    "\n",
    "del done_flag, hb_flag"
   ]
  },
  {
   "cell_type": "code",
   "execution_count": null,
   "metadata": {},
   "outputs": [],
   "source": [
    "purp_filt.Trip_Purpose.value_counts()"
   ]
  },
  {
   "cell_type": "markdown",
   "metadata": {},
   "source": [
    "### Report HB Trips"
   ]
  },
  {
   "cell_type": "code",
   "execution_count": null,
   "metadata": {},
   "outputs": [],
   "source": [
    "hb_report = purp_filt.copy()\n",
    "hb_report = hb_report.groupby(\"Trip_Purpose\").Trip_Purpose.count()\n",
    "hb_report = pd.DataFrame(hb_report).swapaxes(\"index\", \"columns\").rename(columns={0:'Not Allocated'}, index={'Trip_Purpose': 'number of trips'})\n",
    "hb_report\n",
    "# purp_filt.Trip_Purpose.value_counts().keys()[1]"
   ]
  },
  {
   "cell_type": "markdown",
   "metadata": {},
   "source": [
    "## 2. Non-Home Based Trips\n",
    "Non-Home based trips are the ones where their home based flags are false .\n",
    "\n",
    "These trips based on their other conditions categorized as the following categories:\n",
    "* NHBW\n",
    "* WBW\n",
    "* NHBE\n",
    "* NHBO\n",
    "* NHBS"
   ]
  },
  {
   "cell_type": "markdown",
   "metadata": {},
   "source": [
    "### 2.1. Non-Home Based Work and Work Base Work (NHBW and WBW)"
   ]
  },
  {
   "cell_type": "markdown",
   "metadata": {},
   "source": [
    "**Note**: For NHBW, the trip direction is important and trips which their destinations purpose are work related are only considered."
   ]
  },
  {
   "cell_type": "code",
   "execution_count": null,
   "metadata": {},
   "outputs": [],
   "source": [
    "#NHB - Education, Work, Shop and Other\n",
    "done_flag = purp_filt.Trip_Purpose == 0\n",
    "non_hb_flag = purp_filt.Home_based != 1\n",
    "\n",
    "#Work Purpose\n",
    "work_d_purp = purp_filt.DESTPURP == 'Work (my workplace)'\n",
    "work_d_purp2 = purp_filt.DESTPURP == 'Work (other work reason)'\n",
    "work_o_purp = purp_filt.ORIGPURP == 'Work (my workplace)'\n",
    "work_o_purp2 = purp_filt.ORIGPURP == 'Work (other work reason)'\n",
    "\n",
    "#WorkTrip Directionality\n",
    "\n",
    "purp_filt.loc[work_o_purp | work_o_purp2, 'work_o'] = 1\n",
    "purp_filt.loc[work_d_purp | work_d_purp2, 'work_d'] = 1\n",
    "work_d_flag = purp_filt.work_d == 1\n",
    "work_o_flag = purp_filt.work_o == 1\n",
    "\n",
    "purp_filt.loc[non_hb_flag & work_o_flag, 'Work_Direction'] = 'Work2Attr'\n",
    "purp_filt.loc[non_hb_flag & work_d_flag, 'Work_Direction'] = 'Attr2Work'\n",
    "purp_filt.loc[done_flag & non_hb_flag & work_d_flag & work_o_flag, 'Trip_Purpose'] = 'WBW'\n",
    "\n",
    "done_flag = purp_filt.Trip_Purpose == 0 # added this line, since the order of WBW and NHBW is changed.\n",
    "\n",
    "purp_filt.loc[done_flag & non_hb_flag & work_d_flag, 'Trip_Purpose'] = 'NHBW'\n",
    "\n",
    "del work_d_purp, work_d_purp2, work_d_flag, work_o_purp, work_o_purp2, work_o_flag"
   ]
  },
  {
   "cell_type": "code",
   "execution_count": null,
   "metadata": {},
   "outputs": [],
   "source": [
    "purp_filt.Trip_Purpose.value_counts()"
   ]
  },
  {
   "cell_type": "markdown",
   "metadata": {},
   "source": [
    "### 2.2. Non-Home Based Education (NHBE)"
   ]
  },
  {
   "cell_type": "markdown",
   "metadata": {},
   "source": [
    "**NHBE Flowchart**\n",
    "<img src=\"../Media/NHBE.jpg\">"
   ]
  },
  {
   "cell_type": "code",
   "execution_count": null,
   "metadata": {},
   "outputs": [],
   "source": [
    "#education NHB\n",
    "done_flag = purp_filt.Trip_Purpose == 0\n",
    "educ_purp_d = purp_filt.DESTPURP == 'Education'\n",
    "primsec_dest = purp_filt.DESTPLACE == 'Primary or secondary school' \n",
    "CCKindy_dest = purp_filt.DESTPLACE == 'Childcare or kindergarten'\n",
    "tert_dest = purp_filt.DESTPLACE == 'My campus' \n",
    "other_ed_dest = purp_filt.DESTPLACE == 'Other study-related place' \n",
    "tert_student = purp_filt.Student_Tert == 1\n",
    "prim_student = purp_filt.Student_Prim == 1\n",
    "sec_student = purp_filt.Student_Sec == 1 \n",
    "escort_flag = purp_filt.escort == 1\n",
    "\n",
    "# pickdrop_1 = purp_filt.DESTPURP == 'Pick up or drop off a passenger'\n",
    "# pickdrop_2 = purp_filt.DESTPURP == 'Transporting a passenger/s'\n",
    "# pickdrop_3 = purp_filt.DESTPURP == 'Just accompanying someone'\n",
    "edu_dest_flagger = purp_filt.Dest_Type == 'Education' \n",
    "edu_orig_flagger = purp_filt.Orig_Type == 'Education'\n",
    "edu_place_flagger = edu_dest_flagger | edu_orig_flagger\n",
    "\n",
    "purp_filt.loc[primsec_dest | CCKindy_dest | tert_dest | other_ed_dest, 'edu_dest'] = 1\n",
    "edu_dest_flag = purp_filt['edu_dest'] == 1\n",
    "\n",
    "purp_filt.loc[done_flag & non_hb_flag & educ_purp_d & edu_dest_flag & prim_student, 'Trip_Purpose'] = 'NHBE'\n",
    "purp_filt.loc[done_flag & non_hb_flag & educ_purp_d & edu_dest_flag & sec_student, 'Trip_Purpose'] = 'NHBE'\n",
    "purp_filt.Trip_Purpose.value_counts()"
   ]
  },
  {
   "cell_type": "code",
   "execution_count": null,
   "metadata": {},
   "outputs": [],
   "source": [
    "# purp_filt.loc[done_flag & non_hb_flag & edu_dest_flagger & pickdrop_1, 'Trip_Purpose'] = 'NHBE'\n",
    "# purp_filt.loc[done_flag & non_hb_flag & edu_dest_flagger & pickdrop_2, 'Trip_Purpose'] = 'NHBE'\n",
    "# purp_filt.loc[done_flag & non_hb_flag & edu_dest_flagger & pickdrop_3, 'Trip_Purpose'] = 'NHBE'\n",
    "purp_filt.loc[done_flag & non_hb_flag & edu_place_flagger & escort_flag, 'Trip_Purpose'] = 'NHBE'\n",
    "\n",
    "## Modification: the pickdrop_1,2,3 represent escort flag for destination. Also, I don't understand why origin\n",
    "## escort flag and edu_origin_flagger is not considered. If origins get considered too, we can write the next two lines instead of the last \n",
    "## three lines.\n",
    "\n",
    "# escort_flag = purp_filt.escort == 1\n",
    "# purp_filt.loc[done_flag & non_hb_flag & edu_dest_flagger & escort_flag, 'Trip_Purpose'] = 'NHBE'\n",
    "\n",
    "purp_filt.loc[done_flag & non_hb_flag & educ_purp_d & edu_dest_flag & tert_student, 'Trip_Purpose'] = 'NHBO' #Not NHBE\n",
    "\n",
    "del done_flag, educ_purp_d, primsec_dest, CCKindy_dest, tert_dest, other_ed_dest, tert_student, prim_student, sec_student, edu_dest_flag"
   ]
  },
  {
   "cell_type": "code",
   "execution_count": null,
   "metadata": {},
   "outputs": [],
   "source": [
    "purp_filt.Trip_Purpose.value_counts()"
   ]
  },
  {
   "cell_type": "markdown",
   "metadata": {},
   "source": [
    "### 2.3. Non-Home Based Shopping (NHBS)"
   ]
  },
  {
   "cell_type": "markdown",
   "metadata": {},
   "source": [
    "**NHBS Flowchart**\n",
    "<img src=\"../Media/NHBS.jpg\">"
   ]
  },
  {
   "cell_type": "code",
   "execution_count": null,
   "metadata": {},
   "outputs": [],
   "source": [
    "#shopping\n",
    "non_hb_flag = purp_filt.Home_based != 1\n",
    "shop_dest = purp_filt.DESTPLACE == 'Shop or supermarket'\n",
    "food_dest = purp_filt.DESTPLACE == 'Restaurant, cafÃ©, or food outlet'\n",
    "fuel_dest = purp_filt.DESTPLACE == 'Petrol station'\n",
    "purp_filt.loc[shop_dest | food_dest | fuel_dest, 'shop_dest'] = 1\n",
    "done_flag = purp_filt.Trip_Purpose == 0\n",
    "shop_d_flag = purp_filt.shop_dest == 1\n",
    "purp_filt.loc[done_flag & non_hb_flag & shop_d_flag, 'Trip_Purpose'] = 'NHBS'\n",
    "del done_flag, shop_d_flag, shop_dest, food_dest, fuel_dest"
   ]
  },
  {
   "cell_type": "code",
   "execution_count": null,
   "metadata": {},
   "outputs": [],
   "source": [
    "purp_filt.Trip_Purpose.value_counts()"
   ]
  },
  {
   "cell_type": "markdown",
   "metadata": {},
   "source": [
    "### 2.4. Non-Home Based - Final Allocation"
   ]
  },
  {
   "cell_type": "code",
   "execution_count": null,
   "metadata": {},
   "outputs": [],
   "source": [
    "done_flag = purp_filt.Trip_Purpose == 0\n",
    "other_flag = purp_filt.other == 1\n",
    "purp_filt.loc[done_flag & non_hb_flag & other_flag, 'Trip_Purpose'] = 'NHBO'\n",
    "del done_flag, non_hb_flag,  other_flag\n",
    "purp_filt.Trip_Purpose.value_counts()"
   ]
  },
  {
   "cell_type": "code",
   "execution_count": null,
   "metadata": {},
   "outputs": [],
   "source": [
    "#Non-Home based Other - Remainder\n",
    "done_flag = purp_filt.Trip_Purpose == 0\n",
    "non_hb_flag = purp_filt.Home_based != 1\n",
    "purp_filt.loc[done_flag & non_hb_flag, 'Trip_Purpose'] = 'NHBO'\n",
    "del done_flag, non_hb_flag"
   ]
  },
  {
   "cell_type": "code",
   "execution_count": null,
   "metadata": {},
   "outputs": [],
   "source": [
    "purp_filt.Trip_Purpose.value_counts()"
   ]
  },
  {
   "cell_type": "markdown",
   "metadata": {},
   "source": [
    "## Trip Purpose HTML"
   ]
  },
  {
   "cell_type": "code",
   "execution_count": null,
   "metadata": {},
   "outputs": [],
   "source": [
    "trip_purp_table = purp_filt[['TRIPID', 'ORIGPLACE', 'DESTPLACE', 'ORIGPURP', 'DESTPURP', 'Trip_Purpose', 'TRIPWGT19']]\n",
    "pivot_ui(trip_purp_table, vals=['TRIPID', 'TRIPWGT19'], aggregatorName=['Count', 'Sum'], outfile_path='Trips_purpose_pivot.html')"
   ]
  },
  {
   "cell_type": "code",
   "execution_count": null,
   "metadata": {},
   "outputs": [],
   "source": [
    "trip = purp_filt\n",
    "del purp_filt"
   ]
  },
  {
   "cell_type": "code",
   "execution_count": null,
   "metadata": {},
   "outputs": [],
   "source": [
    "\"\"\"Direction Flag.\"\"\"\n",
    "trip_dir = trip.copy()\n",
    "trip_dir['Direction'] = 'OD'\n",
    "p2a_flag = trip_dir.HB_Orig == 1\n",
    "trip_dir.loc[p2a_flag, 'Direction'] = 'P2A'\n",
    "a2p_flag = trip_dir.HB_Dest == 1\n",
    "trip_dir.loc[a2p_flag, 'Direction'] = 'A2P'\n",
    "del p2a_flag, a2p_flag\n",
    "\n",
    "od_flag = trip_dir.Direction == 'OD'\n",
    "trip_dir.loc[od_flag, 'PROD_SA1'] = trip_dir.loc[od_flag, 'ORIGSA1_2016'] \n",
    "trip_dir.loc[od_flag, 'ATTR_SA1'] = trip_dir.loc[od_flag, 'DESTSA1_2016']\n",
    "trip_dir.loc[od_flag, 'PROD_LONG'] = trip_dir.loc[od_flag, 'ORIGLONG'] \n",
    "trip_dir.loc[od_flag, 'PROD_LAT'] = trip_dir.loc[od_flag, 'ORIGLAT'] \n",
    "trip_dir.loc[od_flag, 'ATTR_LONG'] = trip_dir.loc[od_flag, 'DESTLONG']\n",
    "trip_dir.loc[od_flag, 'ATTR_LAT'] = trip_dir.loc[od_flag, 'DESTLAT'] \n",
    "del od_flag\n",
    "p2a_flag = trip_dir.Direction == 'P2A'\n",
    "trip_dir.loc[p2a_flag, 'PROD_SA1'] = trip_dir.loc[p2a_flag, 'ORIGSA1_2016'] \n",
    "trip_dir.loc[p2a_flag, 'ATTR_SA1'] = trip_dir.loc[p2a_flag, 'DESTSA1_2016'] \n",
    "trip_dir.loc[p2a_flag, 'PROD_LONG'] = trip_dir.loc[p2a_flag, 'ORIGLONG'] \n",
    "trip_dir.loc[p2a_flag, 'PROD_LAT'] = trip_dir.loc[p2a_flag, 'ORIGLAT'] \n",
    "trip_dir.loc[p2a_flag, 'ATTR_LONG'] = trip_dir.loc[p2a_flag, 'DESTLONG']\n",
    "trip_dir.loc[p2a_flag, 'ATTR_LAT'] = trip_dir.loc[p2a_flag, 'DESTLAT'] \n",
    "del p2a_flag\n",
    "a2p_flag = trip_dir.Direction == 'A2P'\n",
    "trip_dir.loc[a2p_flag, 'PROD_SA1'] = trip_dir.loc[a2p_flag, 'DESTSA1_2016'] \n",
    "trip_dir.loc[a2p_flag, 'ATTR_SA1'] = trip_dir.loc[a2p_flag, 'ORIGSA1_2016'] \n",
    "trip_dir.loc[a2p_flag, 'PROD_LONG'] = trip_dir.loc[a2p_flag, 'DESTLONG'] \n",
    "trip_dir.loc[a2p_flag, 'PROD_LAT'] = trip_dir.loc[a2p_flag, 'DESTLAT'] \n",
    "trip_dir.loc[a2p_flag, 'ATTR_LONG'] = trip_dir.loc[a2p_flag, 'ORIGLONG']\n",
    "trip_dir.loc[a2p_flag, 'ATTR_LAT'] = trip_dir.loc[a2p_flag, 'ORIGLAT'] \n",
    "del a2p_flag\n",
    "\n",
    "trip = trip_dir\n",
    "del trip_dir\n",
    "\n",
    "\"\"\"Prod/Attr SA2-4,LGA Zones\"\"\"\n",
    "zone_filt = trip.copy()\n",
    "zone_filt = pd.merge(zone_filt, ASGS.set_index('SA1_7DIGITCODE_2016')[['SA2_NAME_2016','SA3_NAME_2016', 'SA4_NAME_2016','LGA_NAME_2016']], left_on = 'PROD_SA1', right_index = True, how = 'left').rename(columns={'SA2_NAME_2016': \"PROD_SA2\", 'SA3_NAME_2016': 'PROD_SA3', 'SA4_NAME_2016':'PROD_SA4', 'LGA_NAME_2016':'PROD_LGA'})\n",
    "zone_filt = pd.merge(zone_filt, ASGS.set_index('SA1_7DIGITCODE_2016')[['SA2_NAME_2016','SA3_NAME_2016', 'SA4_NAME_2016','LGA_NAME_2016']], left_on = 'ATTR_SA1', right_index = True, how = 'left').rename(columns={'SA2_NAME_2016': \"ATTR_SA2\", 'SA3_NAME_2016': 'ATTR_SA3', 'SA4_NAME_2016':'ATTR_SA4', 'LGA_NAME_2016':'ATTR_LGA'})\n",
    "\n",
    "zone_filt = pd.merge(zone_filt, ASGS.set_index('SA1_7DIGITCODE_2016')[['SA2_NAME_2016','SA3_NAME_2016', 'SA4_NAME_2016','LGA_NAME_2016']], left_on = 'ORIGSA1_2016', right_index = True, how = 'left').rename(columns={'SA2_NAME_2016': \"ORIG_SA2\", 'SA3_NAME_2016': 'ORIG_SA3', 'SA4_NAME_2016':'ORIG_SA4', 'LGA_NAME_2016':'ORIG_LGA'})\n",
    "zone_filt = pd.merge(zone_filt, ASGS.set_index('SA1_7DIGITCODE_2016')[['SA2_NAME_2016','SA3_NAME_2016', 'SA4_NAME_2016','LGA_NAME_2016']], left_on = 'DESTSA1_2016', right_index = True, how = 'left').rename(columns={'SA2_NAME_2016': \"DEST_SA2\", 'SA3_NAME_2016': 'DEST_SA3', 'SA4_NAME_2016':'DEST_SA4', 'LGA_NAME_2016':'DEST_LGA'})\n",
    "\n",
    "\n",
    "print('Number of Trip Records in Original: {}'.format(len(TRIPS.axes[0])))\n",
    "print('Number of Trip Records: {}'.format(len(zone_filt.axes[0])))\n",
    "\n",
    "trip = zone_filt\n",
    "del zone_filt"
   ]
  },
  {
   "cell_type": "code",
   "execution_count": null,
   "metadata": {},
   "outputs": [],
   "source": [
    "%%time\n",
    "\"\"\"Time Period Adjustment.\"\"\"\n",
    "time_filt = trip.copy()\n",
    "\n",
    "time_filt['MidTime'] = (((time_filt['STARTIME'] + (time_filt['TRAVTIME']/2)).round(1) + 4*60)/60) %24\n",
    "time_filt['MidTimeHr'] = time_filt['MidTime'].apply(np.floor)\n",
    "time_filt['StartHr'] = (((time_filt['STARTIME'] + 4*60)/60) %24).apply(np.floor)\n",
    "time_filt['EndHr'] = (((time_filt['STARTIME'] + time_filt['TRAVTIME'] + 4*60)/60) %24).apply(np.floor)\n",
    "\n",
    "time_filt['MidTimeHr'].plot.hist(bins=48,alpha =0.5)\n",
    "time_filt['StartHr'].plot.hist(bins=48,alpha =0.5)\n",
    "time_filt['EndHr'].plot.hist(bins=48,alpha =0.5)\n",
    "trip = time_filt\n",
    "del time_filt\n"
   ]
  },
  {
   "cell_type": "markdown",
   "metadata": {},
   "source": [
    "## Mode Adjustments\n",
    "In this section, we assing MODELMODE and PT_access for each trip. To reach this goal, we follow the following steps successively:\n",
    "\n",
    "1. Consider left modes as right modes (MAINMODE, MODE1, MODE2, ..., MODE8):\n",
    "    Truck driver, Motorcycle driver, Other method -----> Car driver\n",
    "    Truck passenger, Motorcycle passenger, Taxi, Taxi or Uber, Taxi or ride share e.g. Uber, Uber / Other Ride Share -----> Car passenger\n",
    "    Mobility scooter -----> Bicycle\n",
    "    \n",
    "2. Define MODELMODE according to the modified MAINMODE (in step 1) as Car driver, Car passenger, Bicycle and Walking. MODELNAME for other MAINMODEs will be defined in the next steps. Thus, if MAINMODE of a trip is within the above group of modes, its MODELNAME is defined, otherwise its MODELNAME is not defined yet. \n",
    "\n",
    "3. Consider left modes as right modes (MAINMODE, MODE1, MODE2, ..., MODE8):\n",
    "    Public Bus, Charter/Courtesy/Other bus -----> Public bus\n",
    "    School bus (private/chartered), School bus (with route number) -----> School bus\n",
    "    \n",
    "4. Based on the number of stops in a trip and its MODE1, MODE2, ..., MODE8, we define MODELNAME. Some general points about this allocation is as stated below:\n",
    "    * Trips with 0 stop (only having MODE1) and without MODELNAME get this property equal to their MAINMODE. In additon, their PT_access is Walk2PT.\n",
    "\n",
    "    * Trips with n>=1 stop (only having MODE1, MODE2, ... MODE_n+1) and without MODELNAME get this property equal to their MAINMODE. In additon, their PT_access is:\n",
    "     - if their MODE1 is within walking, car driver or car passenger and their last MODE (MODE_n+1) is not within this group : PT_access is defined based on the MODE1.\n",
    " \n",
    "     - if their MODE1 is within walking, car driver or car passenger and their last MODE (MODE_n+1) is within this group too: PT_access is defined based on the last MODE (MODE_n+1).\n",
    " \n",
    "     - if their MODE1 is not within walking, car driver or car passenger and their last MODE (MODE_n+1) is within this group: PT_access is defined based on the last MODE (MODE_n+1).\n",
    " \n",
    "     - if their MODE1 is not within walking, car driver or car passenger and their last MODE (MODE_n+1) is not within this group too: PT_access is defined as Walk2PT.\n",
    " \n",
    "**IMPORTANT NOTE**: For trips with number of stops equal or greater than 2 stops (having at least MODE1, MODE2, MODE3), the trip direction as P2A, A2P and OD is considered too to define PT_access. For example, for a trips with two stops, if MODE1 = car driver and MODE3 (last MODE) != (Car driver | car passenger | walking), we cannot say this trip PT_access is not defined based on its MODE1 as \"PnR\" since its direction is A2P (not P2A or OD) and it will be defined as Walk2PT at the end. \n",
    "\n",
    "**Question 1: Is is correct to consider direction? If so, why shouldn't we consider it for trips with one stop too (having MODE1 and MODE2)?**\n",
    "\n",
    "**Question 2: Why do we consider only first mode and last mode for defining PT_access?**\n",
    "\n",
    "**Question 3: PT_access is not defined for trips with MAINMODE (not MODE1, MODE2, ...) of Car driver, Car passenger, Bicycle and Walking. What PT_access should we assign to them?**\n",
    "    "
   ]
  },
  {
   "cell_type": "code",
   "execution_count": null,
   "metadata": {},
   "outputs": [],
   "source": [
    "%%time\n",
    "\"\"\"Mode Adjustments.\"\"\"\n",
    "mode_filt = trip.copy()\n",
    "mode_filt['MODELMODE'] = 0\n",
    "\n",
    "#Mode Flags\n",
    "\n",
    "\n",
    "mode_filt.replace({'Truck driver': 'Car driver','Truck passenger': 'Car passenger', 'Motorcycle driver': 'Car driver', 'Motorcycle passenger': 'Car passenger','Mobility scooter': 'Bicycle', 'Taxi': 'Car passenger', 'Taxi or Uber': 'Car passenger','Taxi or ride share e.g. Uber' : 'Car passenger', 'Uber / Other Ride Share' : 'Car passenger', 'Other method': 'Car driver'}, inplace = True)\n",
    "\n",
    "car_driver = mode_filt.MAINMODE == 'Car driver'\n",
    "car_pass = mode_filt.MAINMODE == 'Car passenger'\n",
    "single_mode = mode_filt.MODE2 == 0\n",
    "\n",
    "walk = mode_filt.MAINMODE == 'Walking'\n",
    "bicycle = mode_filt.MAINMODE == 'Bicycle'\n",
    "motorcycle_driver = mode_filt.MAINMODE == 'Motorcycle driver'\n",
    "motorcycle_pass = mode_filt.MAINMODE == 'Motorcycle passenger'\n",
    "truck_driver = mode_filt.MAINMODE == 'Truck driver'\n",
    "truck_pass = mode_filt.MAINMODE == 'Truck passenger'\n",
    "mob_scoot = mode_filt.MAINMODE == 'Mobility scooter'\n",
    "taxi = mode_filt.MAINMODE == 'Taxi'\n",
    "uber = mode_filt.MAINMODE == 'Taxi or Uber'\n",
    "ride_share = mode_filt.MAINMODE == 'Taxi or ride share e.g. Uber'\n",
    "\n",
    "#single modes\n",
    "mode_filt.loc[car_driver, 'MODELMODE'] = 'Car driver'\n",
    "mode_filt.loc[car_pass, 'MODELMODE'] = 'Car passenger'\n",
    "mode_filt.loc[walk, 'MODELMODE'] = 'Walking'\n",
    "mode_filt.loc[bicycle, 'MODELMODE'] = 'Bicycle'\n",
    "mode_filt.loc[motorcycle_driver, 'MODELMODE'] = 'Car driver'\n",
    "mode_filt.loc[motorcycle_pass, 'MODELMODE'] = 'Car passenger'\n",
    "mode_filt.loc[truck_driver, 'MODELMODE'] = 'Car driver'\n",
    "mode_filt.loc[truck_pass, 'MODELMODE'] = 'Car passenger'\n",
    "mode_filt.loc[mob_scoot, 'MODELMODE'] = 'Bicycle'\n",
    "mode_filt.loc[taxi | uber | ride_share, 'MODELMODE'] = 'Car passenger'\n",
    "\n",
    "\n",
    "mode_filt.loc[truck_driver & single_mode, 'MODELMODE'] = 'Car driver'\n",
    "mode_filt.loc[truck_pass & single_mode, 'MODELMODE'] = 'Car passenger'\n",
    "\n",
    "\n",
    "############\n",
    "# PT MODES #\n",
    "############\n",
    "mode_filt.replace({'Public Bus': 'Public bus','Charter/Courtesy/Other bus': 'Public bus', 'School bus (private/chartered)': 'School bus', 'School bus (with route number)': 'School bus'}, inplace = True)\n",
    "\n",
    "#Num Stops in trip\n",
    "mode_one = mode_filt.trip_stops == 0\n",
    "mode_two = mode_filt.trip_stops == 1\n",
    "mode_three = mode_filt.trip_stops == 2\n",
    "mode_four = mode_filt.trip_stops == 3\n",
    "mode_five = mode_filt.trip_stops == 4\n",
    "mode_six = mode_filt.trip_stops == 5\n",
    "mode_seven = mode_filt.trip_stops == 6\n",
    "mode_eight = mode_filt.trip_stops == 7\n",
    "\n",
    "#direction flag \n",
    "a_to_p = mode_filt.Direction == 'A2P'\n",
    "p_to_a = mode_filt.Direction == 'P2A'\n",
    "O_to_D = mode_filt.Direction == 'OD'\n",
    "\n",
    "#PT\n",
    "# mode_filt.replace({'Public Bus': 'Public bus','Charter/Courtesy/Other bus': 'Public bus', 'School bus (private/chartered)': 'School bus', 'School bus (with route number)': 'School bus'}, inplace = True)\n",
    "# bus_public = mode_filt.MAINMODE == 'Public bus'\n",
    "# bus_school = mode_filt.MAINMODE == 'School bus'\n",
    "# train = mode_filt.MAINMODE == 'Train' \n",
    "# light_rail = mode_filt.MAINMODE == 'Light rail' \n",
    "# ferry = mode_filt.MAINMODE == 'Ferry' \n",
    "mode_filt['PT_access'] = 'None'\n",
    "not_car = mode_filt.MAINMODE != 'Car driver'\n",
    "not_car_p = mode_filt.MAINMODE != 'Car passenger'\n",
    "##PNR KNR W2PT one \n",
    "empty = mode_filt.MODELMODE == 0\n",
    "mode_filt.loc[mode_one & empty & not_car & not_car_p, 'MODELMODE'] = mode_filt.loc[mode_one & empty, 'MAINMODE']\n",
    "\n",
    "# Next three conditions (walk1, drive1 and dropped1) are added, since these MODE1 are not considered to define PT_access\n",
    "# for mode_one trips\n",
    "\n",
    "empty_pt_ac = mode_filt.PT_access == 'None'\n",
    "\n",
    "mode_filt.loc[mode_one & empty & empty_pt_ac & not_car & not_car_p, 'PT_access'] = 'Walk2PT'\n",
    "\n",
    "##PNR KNR W2PT two \n",
    "empty = mode_filt.MODELMODE == 0\n",
    "mode_filt.loc[mode_two & empty & not_car & not_car_p, 'MODELMODE'] = mode_filt.loc[mode_two & empty, 'MAINMODE']\n",
    "\n",
    "walk2 = mode_filt.MODE1 == 'Walking'\n",
    "drive2 = mode_filt.MODE1 == 'Car driver'\n",
    "dropped2 = mode_filt.MODE1 == 'Car passenger'\n",
    "mode_filt.loc[mode_two & empty & walk2 & not_car & not_car_p, 'PT_access'] = 'Walk2PT'\n",
    "mode_filt.loc[mode_two & empty & drive2 & not_car & not_car_p, 'PT_access'] = 'PnR'\n",
    "mode_filt.loc[mode_two & empty & dropped2 & not_car & not_car_p, 'PT_access'] = 'KnR'\n",
    "\n",
    "walk3 = mode_filt.MODE2 == 'Walking'\n",
    "drive3 = mode_filt.MODE2 == 'Car driver'\n",
    "dropped3 = mode_filt.MODE2 == 'Car passenger'\n",
    "mode_filt.loc[mode_two & empty & walk3 & not_car & not_car_p, 'PT_access'] = 'Walk2PT'\n",
    "mode_filt.loc[mode_two & empty & drive3 & not_car & not_car_p, 'PT_access'] = 'PnR'\n",
    "mode_filt.loc[mode_two & empty & dropped3 & not_car & not_car_p, 'PT_access'] = 'KnR'\n",
    "empty_pt_ac = mode_filt.PT_access == 'None'\n",
    "mode_filt.loc[mode_two & empty & empty_pt_ac & not_car & not_car_p, 'PT_access'] = 'Walk2PT'"
   ]
  },
  {
   "cell_type": "code",
   "execution_count": null,
   "metadata": {},
   "outputs": [],
   "source": [
    "##PNR KNR W2PT three \n",
    "empty = mode_filt.MODELMODE == 0\n",
    "mode_filt.loc[mode_three & empty, 'MODELMODE'] = mode_filt.loc[mode_three & empty, 'MAINMODE']\n",
    "\n",
    "walk2 = mode_filt.MODE1 == 'Walking'\n",
    "drive2 = mode_filt.MODE1 == 'Car driver'\n",
    "dropped2 = mode_filt.MODE1 == 'Car passenger'\n",
    "mode_filt.loc[mode_three & empty & p_to_a & walk2, 'PT_access'] = 'Walk2PT'\n",
    "mode_filt.loc[mode_three & empty & p_to_a & drive2, 'PT_access'] = 'PnR'\n",
    "mode_filt.loc[mode_three & empty & p_to_a & dropped2, 'PT_access'] = 'KnR'\n",
    "mode_filt.loc[mode_three & empty & O_to_D & walk2, 'PT_access'] = 'Walk2PT'\n",
    "mode_filt.loc[mode_three & empty & O_to_D & drive2, 'PT_access'] = 'PnR'\n",
    "mode_filt.loc[mode_three & empty & O_to_D & dropped2, 'PT_access'] = 'KnR'\n",
    "walk3 = mode_filt.MODE3 == 'Walking'\n",
    "drive3 = mode_filt.MODE3 == 'Car driver'\n",
    "dropped3 = mode_filt.MODE3 == 'Car passenger'\n",
    "mode_filt.loc[mode_three & empty & a_to_p & walk3, 'PT_access'] = 'Walk2PT'\n",
    "mode_filt.loc[mode_three & empty & a_to_p & drive3, 'PT_access'] = 'PnR'\n",
    "mode_filt.loc[mode_three & empty & a_to_p & dropped3, 'PT_access'] = 'KnR'\n",
    "\n",
    "empty_pt_ac = mode_filt.PT_access == 'None'\n",
    "mode_filt.loc[mode_three & empty & empty_pt_ac, 'PT_access'] = 'Walk2PT'"
   ]
  },
  {
   "cell_type": "code",
   "execution_count": null,
   "metadata": {},
   "outputs": [],
   "source": [
    "##PNR KNR W2PT four\n",
    "empty = mode_filt.MODELMODE == 0\n",
    "mode_filt.loc[mode_four & empty, 'MODELMODE'] = mode_filt.loc[mode_four & empty, 'MAINMODE']\n",
    "\n",
    "walk2 = mode_filt.MODE1 == 'Walking'\n",
    "drive2 = mode_filt.MODE1 == 'Car driver'\n",
    "dropped2 = mode_filt.MODE1 == 'Car passenger'\n",
    "mode_filt.loc[mode_four & empty & p_to_a & walk2, 'PT_access'] = 'Walk2PT'\n",
    "mode_filt.loc[mode_four & empty & p_to_a & drive2, 'PT_access'] = 'PnR'\n",
    "mode_filt.loc[mode_four & empty & p_to_a & dropped2, 'PT_access'] = 'KnR'\n",
    "mode_filt.loc[mode_four & empty & O_to_D & walk2, 'PT_access'] = 'Walk2PT'\n",
    "mode_filt.loc[mode_four & empty & O_to_D & drive2, 'PT_access'] = 'PnR'\n",
    "mode_filt.loc[mode_four & empty & O_to_D & dropped2, 'PT_access'] = 'KnR'\n",
    "walk3 = mode_filt.MODE4 == 'Walking'\n",
    "drive3 = mode_filt.MODE4 == 'Car driver'\n",
    "dropped3 = mode_filt.MODE4 == 'Car passenger'\n",
    "mode_filt.loc[mode_four & empty & a_to_p & walk3, 'PT_access'] = 'Walk2PT'\n",
    "mode_filt.loc[mode_four & empty & a_to_p & drive3, 'PT_access'] = 'PnR'\n",
    "mode_filt.loc[mode_four & empty & a_to_p & dropped3, 'PT_access'] = 'KnR'\n",
    "\n",
    "empty_pt_ac = mode_filt.PT_access == 'None'\n",
    "mode_filt.loc[mode_four & empty & empty_pt_ac, 'PT_access'] = 'Walk2PT'\n",
    "\n",
    "##PNR KNR W2PT five\n",
    "empty = mode_filt.MODELMODE == 0\n",
    "mode_filt.loc[mode_five & empty, 'MODELMODE'] = mode_filt.loc[mode_five & empty, 'MAINMODE']\n",
    "\n",
    "walk2 = mode_filt.MODE1 == 'Walking'\n",
    "drive2 = mode_filt.MODE1 == 'Car driver'\n",
    "dropped2 = mode_filt.MODE1 == 'Car passenger'\n",
    "mode_filt.loc[mode_five & empty & p_to_a & walk2, 'PT_access'] = 'Walk2PT'\n",
    "mode_filt.loc[mode_five & empty & p_to_a & drive2, 'PT_access'] = 'PnR'\n",
    "mode_filt.loc[mode_five & empty & p_to_a & dropped2, 'PT_access'] = 'KnR'\n",
    "mode_filt.loc[mode_five & empty & O_to_D & walk2, 'PT_access'] = 'Walk2PT'\n",
    "mode_filt.loc[mode_five & empty & O_to_D & drive2, 'PT_access'] = 'PnR'\n",
    "mode_filt.loc[mode_five & empty & O_to_D & dropped2, 'PT_access'] = 'KnR'\n",
    "walk3 = mode_filt.MODE5 == 'Walking'\n",
    "drive3 = mode_filt.MODE5 == 'Car driver'\n",
    "dropped3 = mode_filt.MODE5 == 'Car passenger'\n",
    "mode_filt.loc[mode_five & empty & a_to_p & walk3, 'PT_access'] = 'Walk2PT'\n",
    "mode_filt.loc[mode_five & empty & a_to_p & drive3, 'PT_access'] = 'PnR'\n",
    "mode_filt.loc[mode_five & empty & a_to_p & dropped3, 'PT_access'] = 'KnR'\n",
    "\n",
    "empty_pt_ac = mode_filt.PT_access == 'None'\n",
    "mode_filt.loc[mode_five & empty & empty_pt_ac, 'PT_access'] = 'Walk2PT'"
   ]
  },
  {
   "cell_type": "code",
   "execution_count": null,
   "metadata": {},
   "outputs": [],
   "source": [
    "##PNR KNR W2PT six\n",
    "empty = mode_filt.MODELMODE == 0\n",
    "mode_filt.loc[mode_six & empty, 'MODELMODE'] = mode_filt.loc[mode_six & empty, 'MAINMODE']\n",
    "\n",
    "walk2 = mode_filt.MODE1 == 'Walking'\n",
    "drive2 = mode_filt.MODE1 == 'Car driver'\n",
    "dropped2 = mode_filt.MODE1 == 'Car passenger'\n",
    "mode_filt.loc[mode_six & empty & p_to_a & walk2, 'PT_access'] = 'Walk2PT'\n",
    "mode_filt.loc[mode_six & empty & p_to_a & drive2, 'PT_access'] = 'PnR'\n",
    "mode_filt.loc[mode_six & empty & p_to_a & dropped2, 'PT_access'] = 'KnR'\n",
    "mode_filt.loc[mode_six & empty & O_to_D & walk2, 'PT_access'] = 'Walk2PT'\n",
    "mode_filt.loc[mode_six & empty & O_to_D & drive2, 'PT_access'] = 'PnR'\n",
    "mode_filt.loc[mode_six & empty & O_to_D & dropped2, 'PT_access'] = 'KnR'\n",
    "walk3 = mode_filt.MODE6 == 'Walking'\n",
    "drive3 = mode_filt.MODE6 == 'Car driver'\n",
    "dropped3 = mode_filt.MODE6 == 'Car passenger'\n",
    "mode_filt.loc[mode_six & empty & a_to_p & walk3, 'PT_access'] = 'Walk2PT'\n",
    "mode_filt.loc[mode_six & empty & a_to_p & drive3, 'PT_access'] = 'PnR'\n",
    "mode_filt.loc[mode_six & empty & a_to_p & dropped3, 'PT_access'] = 'KnR'\n",
    "\n",
    "empty_pt_ac = mode_filt.PT_access == 'None'\n",
    "mode_filt.loc[mode_six & empty & empty_pt_ac, 'PT_access'] = 'Walk2PT'"
   ]
  },
  {
   "cell_type": "code",
   "execution_count": null,
   "metadata": {},
   "outputs": [],
   "source": [
    "##PNR KNR W2PT seven\n",
    "empty = mode_filt.MODELMODE == 0\n",
    "mode_filt.loc[mode_seven & empty, 'MODELMODE'] = mode_filt.loc[mode_seven & empty, 'MAINMODE']\n",
    "\n",
    "walk2 = mode_filt.MODE1 == 'Walking'\n",
    "drive2 = mode_filt.MODE1 == 'Car driver'\n",
    "dropped2 = mode_filt.MODE1 == 'Car passenger'\n",
    "mode_filt.loc[mode_seven & empty & p_to_a & walk2, 'PT_access'] = 'Walk2PT'\n",
    "mode_filt.loc[mode_seven & empty & p_to_a & drive2, 'PT_access'] = 'PnR'\n",
    "mode_filt.loc[mode_seven & empty & p_to_a & dropped2, 'PT_access'] = 'KnR'\n",
    "mode_filt.loc[mode_seven & empty & O_to_D & walk2, 'PT_access'] = 'Walk2PT'\n",
    "mode_filt.loc[mode_seven & empty & O_to_D & drive2, 'PT_access'] = 'PnR'\n",
    "mode_filt.loc[mode_seven & empty & O_to_D & dropped2, 'PT_access'] = 'KnR'\n",
    "walk3 = mode_filt.MODE7 == 'Walking'\n",
    "drive3 = mode_filt.MODE7 == 'Car driver'\n",
    "dropped3 = mode_filt.MODE7 == 'Car passenger'\n",
    "mode_filt.loc[mode_seven & empty & a_to_p & walk3, 'PT_access'] = 'Walk2PT'\n",
    "mode_filt.loc[mode_seven & empty & a_to_p & drive3, 'PT_access'] = 'PnR'\n",
    "mode_filt.loc[mode_seven & empty & a_to_p & dropped3, 'PT_access'] = 'KnR'\n",
    "\n",
    "empty_pt_ac = mode_filt.PT_access == 'None'\n",
    "mode_filt.loc[mode_seven & empty & empty_pt_ac, 'PT_access'] = 'Walk2PT'"
   ]
  },
  {
   "cell_type": "code",
   "execution_count": null,
   "metadata": {},
   "outputs": [],
   "source": [
    "##PNR KNR W2PT eight\n",
    "empty = mode_filt.MODELMODE == 0\n",
    "mode_filt.loc[mode_eight & empty, 'MODELMODE'] = mode_filt.loc[mode_eight & empty, 'MAINMODE']\n",
    "\n",
    "walk2 = mode_filt.MODE1 == 'Walking'\n",
    "drive2 = mode_filt.MODE1 == 'Car driver'\n",
    "dropped2 = mode_filt.MODE1 == 'Car passenger'\n",
    "mode_filt.loc[mode_eight & empty & p_to_a & walk2, 'PT_access'] = 'Walk2PT'\n",
    "mode_filt.loc[mode_eight & empty & p_to_a & drive2, 'PT_access'] = 'PnR'\n",
    "mode_filt.loc[mode_eight & empty & p_to_a & dropped2, 'PT_access'] = 'KnR'\n",
    "mode_filt.loc[mode_eight & empty & O_to_D & walk2, 'PT_access'] = 'Walk2PT'\n",
    "mode_filt.loc[mode_eight & empty & O_to_D & drive2, 'PT_access'] = 'PnR'\n",
    "mode_filt.loc[mode_eight & empty & O_to_D & dropped2, 'PT_access'] = 'KnR'\n",
    "walk3 = mode_filt.MODE8 == 'Walking'\n",
    "drive3 = mode_filt.MODE8 == 'Car driver'\n",
    "dropped3 = mode_filt.MODE8 == 'Car passenger'\n",
    "mode_filt.loc[mode_eight & empty & a_to_p & walk3, 'PT_access'] = 'Walk2PT'\n",
    "mode_filt.loc[mode_eight & empty & a_to_p & drive3, 'PT_access'] = 'PnR'\n",
    "mode_filt.loc[mode_eight & empty & a_to_p & dropped3, 'PT_access'] = 'KnR'\n",
    "\n",
    "empty_pt_ac = mode_filt.PT_access == 'None'\n",
    "mode_filt.loc[mode_eight & empty & empty_pt_ac, 'PT_access'] = 'Walk2PT'\n",
    "\n",
    "# del empty_pt_ac, walk2, walk3, drive2, drive3, dropped2, dropped3, empty\n",
    "# del a_to_p, p_to_a, O_to_D, mode_one, mode_two, mode_three, mode_four\n",
    "# del mode_five, mode_six, mode_seven, mode_eight\n",
    "# del car_driver, car_pass, motorcycle_driver, motorcycle_pass\n",
    "# del bicycle\n",
    "# del not_car, not_car_p, ride_share, single_mode, taxi\n",
    "# del train, truck_driver, truck_pass, uber, walk\n",
    "\n",
    "print('Number of Trip Records in Original: {}'.format(len(TRIPS.axes[0])))\n",
    "print('Number of Trip Records: {}'.format(len(mode_filt.axes[0])))\n",
    "trip = mode_filt\n",
    "del mode_filt"
   ]
  },
  {
   "cell_type": "code",
   "execution_count": null,
   "metadata": {},
   "outputs": [],
   "source": [
    "trip_non_work_flag = trip['Dependent'] == 1\n",
    "trip_worker_flag = trip['Worker'] == 1\n",
    "trip_student_flag = trip['Student'] == 1\n",
    "trip_non_student_flag = trip['Student'] != 1\n",
    "trip_worker_b_flag = trip['Worker_Blue'] == 1\n",
    "trip_worker_w_flag = trip['Worker_White'] == 1\n",
    "trip_student_t_flag = trip['Student_Tert'] == 1\n",
    "trip_student_s_flag = trip['Student_Sec'] == 1\n",
    "trip_student_p_flag = trip['Student_Prim'] == 1"
   ]
  },
  {
   "cell_type": "code",
   "execution_count": null,
   "metadata": {},
   "outputs": [],
   "source": [
    "trip.loc[trip_non_work_flag & trip_non_student_flag, 'Non-work, non-study'] = 1\n",
    "trip.loc[trip_non_work_flag & trip_non_student_flag, 'Demog Classification' ] = 'Non-work, non-study'\n",
    "trip.loc[trip_non_work_flag & trip_non_student_flag, 'Demog Classification2' ] = 'Non-work, non-study'\n",
    "\n",
    "trip.loc[trip_worker_flag & trip_non_student_flag, 'Work, non-study'] = 1\n",
    "trip.loc[trip_worker_flag & trip_non_student_flag, 'Demog Classification' ] = 'Work, non-study'\n",
    "trip.loc[trip_worker_flag & trip_worker_w_flag & trip_non_student_flag, 'Work_white, non-study'] = 1\n",
    "trip.loc[trip_worker_flag & trip_worker_w_flag & trip_non_student_flag, 'Demog Classification2' ] = 'Work_white, non-study'\n",
    "trip.loc[trip_worker_flag & trip_worker_w_flag & trip_non_student_flag, 'Work_blue, non-study'] = 1\n",
    "trip.loc[trip_worker_flag & trip_worker_b_flag & trip_non_student_flag, 'Demog Classification2' ] = 'Work_blue, non-study'\n",
    "\n",
    "trip.loc[trip_worker_flag & trip_student_flag, 'Work, study'] = 1\n",
    "trip.loc[trip_worker_flag & trip_student_flag, 'Demog Classification' ] = 'Work, study'\n",
    "trip.loc[trip_worker_flag & trip_worker_w_flag & trip_student_flag & trip_student_t_flag, 'Work_White, study_tert'] = 1\n",
    "trip.loc[trip_worker_flag & trip_worker_w_flag & trip_student_flag & trip_student_t_flag, 'Demog Classification2' ] = 'Work_white, study_tert'\n",
    "trip.loc[trip_worker_flag & trip_worker_w_flag & trip_student_flag & trip_student_t_flag, 'Work_Blue, study_tert'] = 1\n",
    "trip.loc[trip_worker_flag & trip_worker_b_flag & trip_student_flag & trip_student_t_flag, 'Demog Classification2' ] = 'Work_Blue, study_tert'\n",
    "trip.loc[trip_worker_flag & trip_worker_w_flag & trip_student_flag & trip_student_s_flag, 'Work_White, study_sec'] = 1\n",
    "trip.loc[trip_worker_flag & trip_worker_w_flag & trip_student_flag & trip_student_s_flag, 'Demog Classification2' ] = 'Work_white, study_sec'\n",
    "trip.loc[trip_worker_flag & trip_worker_w_flag & trip_student_flag & trip_student_s_flag, 'Work_Blue, study_sec'] = 1\n",
    "trip.loc[trip_worker_flag & trip_worker_b_flag & trip_student_flag & trip_student_s_flag, 'Demog Classification2' ] = 'Work_Blue, study_sec'\n",
    "\n",
    "trip.loc[trip_non_work_flag & trip_student_flag, 'Non-work, study'] = 1\n",
    "trip.loc[trip_non_work_flag & trip_student_flag, 'Demog Classification' ] = 'Non-work, study'\n",
    "trip.loc[trip_non_work_flag & trip_student_flag & trip_student_p_flag, 'Non-work, study_prim'] = 1\n",
    "trip.loc[trip_non_work_flag & trip_student_flag & trip_student_p_flag, 'Demog Classification2' ] = 'Non-work, study_prim'\n",
    "trip.loc[trip_non_work_flag & trip_student_flag & trip_student_p_flag, 'Non-work, study_sec'] = 1\n",
    "trip.loc[trip_non_work_flag & trip_student_flag & trip_student_p_flag, 'Demog Classification2' ] = 'Non-work, study_sec'\n",
    "trip.loc[trip_non_work_flag & trip_student_flag & trip_student_p_flag, 'Non-work, study_tert'] = 1\n",
    "trip.loc[trip_non_work_flag & trip_student_flag & trip_student_p_flag, 'Demog Classification2' ] = 'Non-work, study_tert'"
   ]
  },
  {
   "cell_type": "code",
   "execution_count": null,
   "metadata": {},
   "outputs": [],
   "source": [
    "%%time\n",
    "\"\"\"Export Tables\"\"\"\n",
    "pivot_ui(trip, vals=['TRIPWGT19'], aggregatorName='Sum', outfile_path='Trips_pivot.html')\n",
    "pivot_ui(Household, vals=['PERSWGT19'], aggregatorName='Sum', outfile_path='Households_pivot.html')\n",
    "pivot_ui(Person, vals=['PERSWGT19'], aggregatorName='Sum', outfile_path='Persons_pivot.html')\n",
    "trip.to_csv('Trips_table.csv')\n",
    "Household.to_csv('Households_table.csv')\n",
    "Person.to_csv('Persons_table.csv')\n"
   ]
  },
  {
   "cell_type": "code",
   "execution_count": null,
   "metadata": {},
   "outputs": [],
   "source": []
  }
 ],
 "metadata": {
  "interpreter": {
   "hash": "b1f24890eb84a21c22fceb5ff27f4a7d0082a10395c29f9b6c32d6d83df783c0"
  },
  "kernelspec": {
   "display_name": "Python 3",
   "language": "python",
   "name": "python3"
  },
  "language_info": {
   "codemirror_mode": {
    "name": "ipython",
    "version": 3
   },
   "file_extension": ".py",
   "mimetype": "text/x-python",
   "name": "python",
   "nbconvert_exporter": "python",
   "pygments_lexer": "ipython3",
   "version": "3.9.5"
  }
 },
 "nbformat": 4,
 "nbformat_minor": 2
}
