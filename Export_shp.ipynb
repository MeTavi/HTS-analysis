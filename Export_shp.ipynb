{
 "cells": [
  {
   "cell_type": "code",
   "execution_count": 1,
   "metadata": {},
   "outputs": [],
   "source": [
    "import geopandas\n",
    "import shapely\n",
    "import fiona\n",
    "from shapely.geometry import LineString"
   ]
  },
  {
   "cell_type": "code",
   "execution_count": 2,
   "metadata": {},
   "outputs": [],
   "source": [
    "filename = \"H:\\Transportation Project\\Spatial_Analysis\\QSC_Extracted_Data_Input/Baseline_roads_and_tracks.shp\"\n",
    "df = geopandas.read_file(filename)"
   ]
  },
  {
   "cell_type": "code",
   "execution_count": 3,
   "metadata": {},
   "outputs": [
    {
     "data": {
      "text/html": [
       "<div>\n",
       "<style scoped>\n",
       "    .dataframe tbody tr th:only-of-type {\n",
       "        vertical-align: middle;\n",
       "    }\n",
       "\n",
       "    .dataframe tbody tr th {\n",
       "        vertical-align: top;\n",
       "    }\n",
       "\n",
       "    .dataframe thead th {\n",
       "        text-align: right;\n",
       "    }\n",
       "</style>\n",
       "<table border=\"1\" class=\"dataframe\">\n",
       "  <thead>\n",
       "    <tr style=\"text-align: right;\">\n",
       "      <th></th>\n",
       "      <th>STREET</th>\n",
       "      <th>ROADTYPE</th>\n",
       "      <th>STE_ROUTE_</th>\n",
       "      <th>NAT_ROUTE_</th>\n",
       "      <th>BASELINE_I</th>\n",
       "      <th>STATE_CTRL</th>\n",
       "      <th>SHAPE_Leng</th>\n",
       "      <th>geometry</th>\n",
       "    </tr>\n",
       "  </thead>\n",
       "  <tbody>\n",
       "    <tr>\n",
       "      <th>0</th>\n",
       "      <td>BEAGLE COURT</td>\n",
       "      <td>5</td>\n",
       "      <td>None</td>\n",
       "      <td>None</td>\n",
       "      <td>2.021030e+11</td>\n",
       "      <td>F</td>\n",
       "      <td>145.327756</td>\n",
       "      <td>LINESTRING (1102379.328 7854711.753, 1102409.6...</td>\n",
       "    </tr>\n",
       "    <tr>\n",
       "      <th>1</th>\n",
       "      <td>BEAGLE PLACE</td>\n",
       "      <td>5</td>\n",
       "      <td>None</td>\n",
       "      <td>None</td>\n",
       "      <td>2.021030e+11</td>\n",
       "      <td>F</td>\n",
       "      <td>18.941119</td>\n",
       "      <td>LINESTRING (1683257.889 6895944.239, 1683264.9...</td>\n",
       "    </tr>\n",
       "    <tr>\n",
       "      <th>2</th>\n",
       "      <td>BEAGLE PLACE</td>\n",
       "      <td>5</td>\n",
       "      <td>None</td>\n",
       "      <td>None</td>\n",
       "      <td>2.021030e+11</td>\n",
       "      <td>F</td>\n",
       "      <td>39.615289</td>\n",
       "      <td>LINESTRING (1683269.674 6895929.503, 1683275.4...</td>\n",
       "    </tr>\n",
       "    <tr>\n",
       "      <th>3</th>\n",
       "      <td>BEAGLE PLACE</td>\n",
       "      <td>5</td>\n",
       "      <td>None</td>\n",
       "      <td>None</td>\n",
       "      <td>2.021030e+11</td>\n",
       "      <td>F</td>\n",
       "      <td>16.445464</td>\n",
       "      <td>LINESTRING (1683207.306 6895970.919, 1683221.8...</td>\n",
       "    </tr>\n",
       "    <tr>\n",
       "      <th>4</th>\n",
       "      <td>BEAGLE PLACE</td>\n",
       "      <td>5</td>\n",
       "      <td>None</td>\n",
       "      <td>None</td>\n",
       "      <td>2.021030e+11</td>\n",
       "      <td>F</td>\n",
       "      <td>40.743637</td>\n",
       "      <td>LINESTRING (1683221.807 6895963.163, 1683257.8...</td>\n",
       "    </tr>\n",
       "  </tbody>\n",
       "</table>\n",
       "</div>"
      ],
      "text/plain": [
       "         STREET  ROADTYPE STE_ROUTE_ NAT_ROUTE_    BASELINE_I STATE_CTRL  \\\n",
       "0  BEAGLE COURT         5       None       None  2.021030e+11          F   \n",
       "1  BEAGLE PLACE         5       None       None  2.021030e+11          F   \n",
       "2  BEAGLE PLACE         5       None       None  2.021030e+11          F   \n",
       "3  BEAGLE PLACE         5       None       None  2.021030e+11          F   \n",
       "4  BEAGLE PLACE         5       None       None  2.021030e+11          F   \n",
       "\n",
       "   SHAPE_Leng                                           geometry  \n",
       "0  145.327756  LINESTRING (1102379.328 7854711.753, 1102409.6...  \n",
       "1   18.941119  LINESTRING (1683257.889 6895944.239, 1683264.9...  \n",
       "2   39.615289  LINESTRING (1683269.674 6895929.503, 1683275.4...  \n",
       "3   16.445464  LINESTRING (1683207.306 6895970.919, 1683221.8...  \n",
       "4   40.743637  LINESTRING (1683221.807 6895963.163, 1683257.8...  "
      ]
     },
     "execution_count": 3,
     "metadata": {},
     "output_type": "execute_result"
    }
   ],
   "source": [
    "df.head()"
   ]
  },
  {
   "cell_type": "code",
   "execution_count": 4,
   "metadata": {},
   "outputs": [],
   "source": [
    "df[\"geometry\"] = df[\"geometry\"].apply(lambda x: LineString(x.coords[::-1]))"
   ]
  },
  {
   "cell_type": "code",
   "execution_count": 6,
   "metadata": {},
   "outputs": [],
   "source": [
    "output_filename = \"Baseline_roads_and_tracks_output.shp\"\n",
    "df.to_file(output_filename)"
   ]
  }
 ],
 "metadata": {
  "kernelspec": {
   "display_name": "Python 3",
   "language": "python",
   "name": "python3"
  },
  "language_info": {
   "codemirror_mode": {
    "name": "ipython",
    "version": 3
   },
   "file_extension": ".py",
   "mimetype": "text/x-python",
   "name": "python",
   "nbconvert_exporter": "python",
   "pygments_lexer": "ipython3",
   "version": "3.6.10"
  }
 },
 "nbformat": 4,
 "nbformat_minor": 4
}
