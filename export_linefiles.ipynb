{
 "cells": [
  {
   "cell_type": "code",
   "execution_count": 84,
   "metadata": {},
   "outputs": [],
   "source": [
    "import numpy as np\n",
    "import pandas as pd"
   ]
  },
  {
   "cell_type": "code",
   "execution_count": 213,
   "metadata": {},
   "outputs": [],
   "source": [
    "inputs_schedule_file_path = r\"tp_schedule_am_bus.csv\"\n",
    "\n",
    "inputs_tline_formats = r\"inputs_tline_formats.csv\""
   ]
  },
  {
   "cell_type": "code",
   "execution_count": 214,
   "metadata": {},
   "outputs": [],
   "source": [
    "output_filepath = r\"BUS_lines_2.txt\"\n",
    "# ..\\temp_data\\outputs\\"
   ]
  },
  {
   "cell_type": "code",
   "execution_count": 215,
   "metadata": {},
   "outputs": [],
   "source": [
    "tp_schedule_am_bus = pd.read_csv(inputs_schedule_file_path)"
   ]
  },
  {
   "cell_type": "code",
   "execution_count": 216,
   "metadata": {},
   "outputs": [],
   "source": [
    "line_formats = pd.read_csv(inputs_tline_formats).set_index('line_key')['format_string']\n"
   ]
  },
  {
   "cell_type": "code",
   "execution_count": 217,
   "metadata": {},
   "outputs": [],
   "source": [
    "def export_to_transaction_files_v2(model_schedule, lines_file, line_formats):\n",
    "    \"\"\"\n",
    "    consecutive stops associated to a single node should be skipped from the line file. However it is recommended to\n",
    "    keep the information of the stop that is skipped in the output line-file as a comment (add a c in front of the line). \n",
    "    When a stop is commented out (skipped) the `time from the last stop` (us3 value in the output) should include the time requires to go through \n",
    "    the stops that are skipped.\n",
    "    TODO: Correct the `time from the last stop` in dummy nodes. Dummy nodes are thoes with the marker value of '#'. currently the value of \n",
    "    `time from the last stop` for dummy nodes are equal to zero. This value should be set equal to the value of the next row [that is not dummy node].\n",
    "    \n",
    "    \n",
    "    \"\"\"\n",
    "\n",
    "    model_schedule.sort_values(['time_period_code',\n",
    "                                'line_id',\n",
    "                                'route_id',\n",
    "                                'direction',\n",
    "                                'stop_order'],\n",
    "                               ascending=True, inplace=True)\n",
    "    model_schedule[\"shifted_node_id\"] = \\\n",
    "        model_schedule.groupby(['time_period_code', 'line_id', 'route_id', 'direction'])[\n",
    "            'node_id'].shift(1)\n",
    "    model_schedule[\"is_prev_node\"] = np.where(model_schedule[\"node_id\"] == model_schedule[\"shifted_node_id\"],\n",
    "                                              True, False)\n",
    "    model_schedule['subgroup'] = (model_schedule['is_prev_node'] != model_schedule['is_prev_node'].shift(1)).cumsum()\n",
    "    model_schedule['subgroup_time_from_last_stop'] = model_schedule['time_from_last_stop_minutes'].groupby(\n",
    "        model_schedule['subgroup']).transform('sum')\n",
    "    model_schedule[\"subgroup_time_from_last_stop\"] = np.where(model_schedule[\"is_prev_node\"],\n",
    "                                                              model_schedule[\"subgroup_time_from_last_stop\"], np.NAN)\n",
    "    model_schedule[\"time_from_last_stop_minutes\"] = np.where(\n",
    "        ((model_schedule[\"is_prev_node\"] == False) & (model_schedule[\"is_prev_node\"].shift(1) == True)),\n",
    "        model_schedule[\"subgroup_time_from_last_stop\"].shift(1) + model_schedule['time_from_last_stop_minutes'],\n",
    "        model_schedule['time_from_last_stop_minutes']) \n",
    "    \n",
    "    \n",
    "     ## TO-DO: Done from here\n",
    "        \n",
    "    model_schedule[\"hash_indic\"] = np.where(model_schedule[\"marker\"] == \"#\", True, False)\n",
    "    model_schedule[\"hash_counter\"] = np.where(model_schedule[\"marker\"] == \"#\", 1, 0)\n",
    "        \n",
    "    ## Finding the number of dummies in each group of dummies\n",
    "    model_schedule['hash_group'] = (model_schedule['hash_indic'] != model_schedule['hash_indic'].shift(1)).cumsum()\n",
    "    model_schedule['hash_group_count'] = model_schedule.groupby(by=['hash_group'])['line_id'].transform('count')\n",
    "\n",
    "    model_schedule[\"hash_counter\"] = np.where(model_schedule[\"hash_indic\"] == True, model_schedule['hash_group_count'], 0)   \n",
    "\n",
    "    \n",
    "    ## Allocate correct hash_counter to all hashes of each group plus the first positive node after each group of dummies   \n",
    "    model_schedule[\"modif_hash_indic\"] = np.where(np.logical_or(model_schedule[\"hash_indic\"],\n",
    "                                                       model_schedule[\"hash_indic\"].shift(1, fill_value=0)), True, False)\n",
    "    positive_indic = pd.Series(np.logical_xor(model_schedule[\"modif_hash_indic\"], model_schedule[\"hash_indic\"]))\n",
    "    \n",
    "    model_schedule[\"hash_counter\"] = np.where(positive_indic,\n",
    "                                              model_schedule[\"hash_counter\"].shift(1),\n",
    "                                              0) + model_schedule[\"hash_counter\"]\n",
    "    \n",
    "    model_schedule[\"hash_group\"] = np.where(positive_indic,\n",
    "                                          model_schedule[\"hash_group\"].shift(1),\n",
    "                                          np.where(model_schedule[\"hash_indic\"] == True,\n",
    "                                                  model_schedule[\"hash_group\"], 0))\n",
    "    \n",
    "    # Dommy groups' time modification\n",
    "    model_schedule[\"time_from_last_stop_minutes\"] = np.where(model_schedule[\"hash_group\"] != 0, \n",
    "                                                             model_schedule[\"time_from_last_stop_minutes\"].groupby(model_schedule[\"hash_group\"]).transform(lambda x: x.iloc[-1]),\n",
    "                                                             model_schedule[\"time_from_last_stop_minutes\"])\n",
    "    \n",
    "    model_schedule[\"time_from_last_stop_minutes\"] = model_schedule[\"time_from_last_stop_minutes\"]/(model_schedule[\"hash_counter\"]+1)\n",
    "\n",
    "    \n",
    "    with open(lines_file, 'w') as f:\n",
    "        f.write(\"t lines\\n\")\n",
    "        for i, line in model_schedule.iterrows():\n",
    "            if line['stop_order'] == 1:\n",
    "                f.write(\"c ---------------------------------------\\n\")\n",
    "                add_transit_string = line_formats.loc['add_transit_line'].format(l=line).replace(\"'n'\", \"n\")\n",
    "                f.write(add_transit_string)\n",
    "                f.write('\\n')\n",
    "                f.write(line_formats.loc['transit_line_details'].format(l=line))\n",
    "                f.write('\\n')\n",
    "                f.write(line_formats.loc['first_node'].format(l=line))\n",
    "                f.write('\\n')\n",
    "            else:\n",
    "                string = line_formats.loc['normal_stop_line'].format(l=line).replace(\"'\", \" \")\n",
    "                if line[\"is_prev_node\"]:\n",
    "                    string = 'c ' + string\n",
    "                f.write(string)\n",
    "                f.write('\\n')\n"
   ]
  },
  {
   "cell_type": "code",
   "execution_count": 218,
   "metadata": {},
   "outputs": [],
   "source": [
    "mode_code ='b'\n",
    "mode_line_file = 'BUS'"
   ]
  },
  {
   "cell_type": "code",
   "execution_count": 219,
   "metadata": {},
   "outputs": [],
   "source": [
    "tp_schedule = tp_schedule_am_bus.copy()"
   ]
  },
  {
   "cell_type": "code",
   "execution_count": 220,
   "metadata": {},
   "outputs": [],
   "source": [
    "tp_schedule = tp_schedule.astype({'allow_boardings': 'bool', 'allow_alightings': 'bool', 'stop_id':'str'})"
   ]
  },
  {
   "cell_type": "code",
   "execution_count": 221,
   "metadata": {},
   "outputs": [],
   "source": [
    "#apply some formatting to certain columns in schedule file.\n",
    "tp_schedule[\"stop_id\"] = tp_schedule['stop_id'].apply(lambda x: x.rjust(6,' ')) #-------\n",
    "tp_schedule[\"stop_name\"] =tp_schedule['stop_name'].apply(lambda x: x.replace(\"'\", \"\"))#-------\n",
    "tp_schedule = tp_schedule.sort_values(by=['line_id', 'stop_order'])"
   ]
  },
  {
   "cell_type": "code",
   "execution_count": 222,
   "metadata": {},
   "outputs": [
    {
     "name": "stdout",
     "output_type": "stream",
     "text": [
      "Writing BUS_lines_2.txt for mode b in time period 2\n"
     ]
    }
   ],
   "source": [
    "print(\"Writing {} for mode {} in time period {}\".format(output_filepath, mode_code, '2')) "
   ]
  },
  {
   "cell_type": "code",
   "execution_count": 223,
   "metadata": {},
   "outputs": [],
   "source": [
    "export_to_transaction_files_v2(tp_schedule, output_filepath, line_formats)"
   ]
  }
 ],
 "metadata": {
  "kernelspec": {
   "display_name": "Python 3",
   "language": "python",
   "name": "python3"
  },
  "language_info": {
   "codemirror_mode": {
    "name": "ipython",
    "version": 3
   },
   "file_extension": ".py",
   "mimetype": "text/x-python",
   "name": "python",
   "nbconvert_exporter": "python",
   "pygments_lexer": "ipython3",
   "version": "3.6.10"
  }
 },
 "nbformat": 4,
 "nbformat_minor": 5
}
